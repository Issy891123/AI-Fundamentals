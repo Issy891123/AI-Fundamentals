{
 "cells": [
  {
   "cell_type": "markdown",
   "metadata": {},
   "source": [
    "## Taken from the Prework course of the PGP AIML at University of Texas"
   ]
  },
  {
   "cell_type": "markdown",
   "metadata": {
    "id": "WT6oQgjMOII0"
   },
   "source": [
    "# Getting started with Python"
   ]
  },
  {
   "cell_type": "code",
   "execution_count": null,
   "metadata": {
    "colab": {
     "base_uri": "https://localhost:8080/"
    },
    "executionInfo": {
     "elapsed": 269,
     "status": "ok",
     "timestamp": 1648273611213,
     "user": {
      "displayName": "Andres Rojas",
      "photoUrl": "https://lh3.googleusercontent.com/a-/AOh14GhQZ_V21fUHbqa6Dqza57WcN-GjzAw-23gpKS_C=s64",
      "userId": "08029936610891438178"
     },
     "user_tz": 300
    },
    "id": "RHvBMQfEOHKJ",
    "outputId": "7fb0bf31-15fa-4edc-dab4-9cecdcb815df"
   },
   "outputs": [],
   "source": [
    "2+2+3"
   ]
  },
  {
   "cell_type": "code",
   "execution_count": null,
   "metadata": {
    "colab": {
     "base_uri": "https://localhost:8080/"
    },
    "executionInfo": {
     "elapsed": 22,
     "status": "ok",
     "timestamp": 1648273611418,
     "user": {
      "displayName": "Andres Rojas",
      "photoUrl": "https://lh3.googleusercontent.com/a-/AOh14GhQZ_V21fUHbqa6Dqza57WcN-GjzAw-23gpKS_C=s64",
      "userId": "08029936610891438178"
     },
     "user_tz": 300
    },
    "id": "pnbIz1sARF6w",
    "outputId": "c2e7eb16-1102-412d-910d-96c20375f7b6"
   },
   "outputs": [],
   "source": [
    "2+2\n",
    "4+4"
   ]
  },
  {
   "cell_type": "code",
   "execution_count": null,
   "metadata": {
    "colab": {
     "base_uri": "https://localhost:8080/"
    },
    "executionInfo": {
     "elapsed": 18,
     "status": "ok",
     "timestamp": 1648273611419,
     "user": {
      "displayName": "Andres Rojas",
      "photoUrl": "https://lh3.googleusercontent.com/a-/AOh14GhQZ_V21fUHbqa6Dqza57WcN-GjzAw-23gpKS_C=s64",
      "userId": "08029936610891438178"
     },
     "user_tz": 300
    },
    "id": "bAX0ZLxxRUoQ",
    "outputId": "ea144d23-0100-43c4-bc7f-f819d0e3563f"
   },
   "outputs": [],
   "source": [
    "print(2+2)\n",
    "print(4+4)"
   ]
  },
  {
   "cell_type": "code",
   "execution_count": null,
   "metadata": {
    "colab": {
     "base_uri": "https://localhost:8080/"
    },
    "executionInfo": {
     "elapsed": 304,
     "status": "ok",
     "timestamp": 1648273611713,
     "user": {
      "displayName": "Andres Rojas",
      "photoUrl": "https://lh3.googleusercontent.com/a-/AOh14GhQZ_V21fUHbqa6Dqza57WcN-GjzAw-23gpKS_C=s64",
      "userId": "08029936610891438178"
     },
     "user_tz": 300
    },
    "id": "JEOip_g3RiD-",
    "outputId": "a30cf358-4bb1-44d6-fa38-30a4609e7580"
   },
   "outputs": [],
   "source": [
    "print('hello world!')"
   ]
  },
  {
   "cell_type": "code",
   "execution_count": null,
   "metadata": {
    "colab": {
     "base_uri": "https://localhost:8080/"
    },
    "executionInfo": {
     "elapsed": 53,
     "status": "ok",
     "timestamp": 1648273611714,
     "user": {
      "displayName": "Andres Rojas",
      "photoUrl": "https://lh3.googleusercontent.com/a-/AOh14GhQZ_V21fUHbqa6Dqza57WcN-GjzAw-23gpKS_C=s64",
      "userId": "08029936610891438178"
     },
     "user_tz": 300
    },
    "id": "2DQ05DLERlAP",
    "outputId": "b77771f4-340a-4196-e8a0-0dcc9a889f50"
   },
   "outputs": [],
   "source": [
    "print('hello world!',2+2,'this is python')"
   ]
  },
  {
   "cell_type": "code",
   "execution_count": null,
   "metadata": {
    "colab": {
     "base_uri": "https://localhost:8080/"
    },
    "executionInfo": {
     "elapsed": 51,
     "status": "ok",
     "timestamp": 1648273611714,
     "user": {
      "displayName": "Andres Rojas",
      "photoUrl": "https://lh3.googleusercontent.com/a-/AOh14GhQZ_V21fUHbqa6Dqza57WcN-GjzAw-23gpKS_C=s64",
      "userId": "08029936610891438178"
     },
     "user_tz": 300
    },
    "id": "MdTanT_oRw6w",
    "outputId": "382636a4-9240-4c68-bb05-7c0fced7282f"
   },
   "outputs": [],
   "source": [
    "print('hello world!',2+2,'this is python',sep='*')"
   ]
  },
  {
   "cell_type": "code",
   "execution_count": null,
   "metadata": {
    "colab": {
     "base_uri": "https://localhost:8080/"
    },
    "executionInfo": {
     "elapsed": 49,
     "status": "ok",
     "timestamp": 1648273611715,
     "user": {
      "displayName": "Andres Rojas",
      "photoUrl": "https://lh3.googleusercontent.com/a-/AOh14GhQZ_V21fUHbqa6Dqza57WcN-GjzAw-23gpKS_C=s64",
      "userId": "08029936610891438178"
     },
     "user_tz": 300
    },
    "id": "KaXF_pVARz-A",
    "outputId": "7cc45dc3-61b4-4585-d36f-2e3a814d2f7d"
   },
   "outputs": [],
   "source": [
    "# everything to the right of a # is not run as code, this is called a comment!\n",
    "2+2"
   ]
  },
  {
   "cell_type": "code",
   "execution_count": null,
   "metadata": {
    "colab": {
     "base_uri": "https://localhost:8080/"
    },
    "executionInfo": {
     "elapsed": 47,
     "status": "ok",
     "timestamp": 1648273611716,
     "user": {
      "displayName": "Andres Rojas",
      "photoUrl": "https://lh3.googleusercontent.com/a-/AOh14GhQZ_V21fUHbqa6Dqza57WcN-GjzAw-23gpKS_C=s64",
      "userId": "08029936610891438178"
     },
     "user_tz": 300
    },
    "id": "sx-qS0w5R_jn",
    "outputId": "f3f0ab55-1905-4565-c276-df00c81b25bc"
   },
   "outputs": [],
   "source": [
    "# we can add strings together\n",
    "print('hello'+'world')"
   ]
  },
  {
   "cell_type": "code",
   "execution_count": null,
   "metadata": {
    "colab": {
     "base_uri": "https://localhost:8080/"
    },
    "executionInfo": {
     "elapsed": 45,
     "status": "ok",
     "timestamp": 1648273611717,
     "user": {
      "displayName": "Andres Rojas",
      "photoUrl": "https://lh3.googleusercontent.com/a-/AOh14GhQZ_V21fUHbqa6Dqza57WcN-GjzAw-23gpKS_C=s64",
      "userId": "08029936610891438178"
     },
     "user_tz": 300
    },
    "id": "u-gscEWLSJDX",
    "outputId": "7406c66b-fb5f-4127-d30a-e092136cadd6"
   },
   "outputs": [],
   "source": [
    "# we can add strings together\n",
    "print('hello '+' world')"
   ]
  },
  {
   "cell_type": "code",
   "execution_count": null,
   "metadata": {
    "colab": {
     "base_uri": "https://localhost:8080/"
    },
    "executionInfo": {
     "elapsed": 35,
     "status": "ok",
     "timestamp": 1648273611717,
     "user": {
      "displayName": "Andres Rojas",
      "photoUrl": "https://lh3.googleusercontent.com/a-/AOh14GhQZ_V21fUHbqa6Dqza57WcN-GjzAw-23gpKS_C=s64",
      "userId": "08029936610891438178"
     },
     "user_tz": 300
    },
    "id": "H6Wi1zoJSVB_",
    "outputId": "78c72717-3410-45e9-fce5-4161bc1ccfb1"
   },
   "outputs": [],
   "source": [
    "print('hello'+str(5))"
   ]
  },
  {
   "cell_type": "markdown",
   "metadata": {
    "id": "dLWEI8mMSvbp"
   },
   "source": [
    "Let's learn Pyhton using the context of the store's data"
   ]
  },
  {
   "cell_type": "markdown",
   "metadata": {
    "id": "9-cSvjuCS54F"
   },
   "source": [
    "# Python Fundamentals\n",
    "## 1.1 Intro to Variables\n",
    "\n",
    "**1.1.1 What are the Comparison Operators in Python?**\n",
    "\n",
    "Tags- #comments #python #comparisonoperators\n",
    "\n",
    "These operators will allow us to compare variables and give output as Boolean value (True or False).\n",
    "\n",
    "First, we'll present a table of the comparison operators and then work through some examples:\n",
    "\n",
    "* In the table below, consider a=5 and b=6.\n",
    "\n",
    "![PythonOperators.PNG](data:image/png;base64,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)\n",
    "\n"
   ]
  },
  {
   "cell_type": "markdown",
   "metadata": {
    "id": "mWMC-EaYfxtP"
   },
   "source": [
    "Q. Suppose the store sold an Apple iPHone (4GB, 128GB) for $900. Store this information in the variables **price, brand, ram,** and **storage**"
   ]
  },
  {
   "cell_type": "code",
   "execution_count": null,
   "metadata": {
    "colab": {
     "base_uri": "https://localhost:8080/"
    },
    "executionInfo": {
     "elapsed": 32,
     "status": "ok",
     "timestamp": 1648273611718,
     "user": {
      "displayName": "Andres Rojas",
      "photoUrl": "https://lh3.googleusercontent.com/a-/AOh14GhQZ_V21fUHbqa6Dqza57WcN-GjzAw-23gpKS_C=s64",
      "userId": "08029936610891438178"
     },
     "user_tz": 300
    },
    "id": "Qd_8jahNYgxW",
    "outputId": "2bdd6d3a-c190-4f92-bb57-076987c62c14"
   },
   "outputs": [],
   "source": [
    "# store the price (in dollars) of the mobile in variable 'price'\n",
    "price = 900\n",
    "#print the value saved in the variable 'price'\n",
    "print('The price of the mobile is $', price,sep='')"
   ]
  },
  {
   "cell_type": "code",
   "execution_count": null,
   "metadata": {
    "colab": {
     "base_uri": "https://localhost:8080/"
    },
    "executionInfo": {
     "elapsed": 26,
     "status": "ok",
     "timestamp": 1648273611718,
     "user": {
      "displayName": "Andres Rojas",
      "photoUrl": "https://lh3.googleusercontent.com/a-/AOh14GhQZ_V21fUHbqa6Dqza57WcN-GjzAw-23gpKS_C=s64",
      "userId": "08029936610891438178"
     },
     "user_tz": 300
    },
    "id": "eCF-NxwEgbKu",
    "outputId": "628530ad-7580-4582-c31c-8c892823bb0d"
   },
   "outputs": [],
   "source": [
    "# store the brand name of the mobile in variable 'brand'\n",
    "brand = 'Apple'\n",
    "#print the value saved in the variable 'brand'\n",
    "print('The brand of the mobile is', brand)"
   ]
  },
  {
   "cell_type": "code",
   "execution_count": null,
   "metadata": {
    "colab": {
     "base_uri": "https://localhost:8080/"
    },
    "executionInfo": {
     "elapsed": 24,
     "status": "ok",
     "timestamp": 1648273611719,
     "user": {
      "displayName": "Andres Rojas",
      "photoUrl": "https://lh3.googleusercontent.com/a-/AOh14GhQZ_V21fUHbqa6Dqza57WcN-GjzAw-23gpKS_C=s64",
      "userId": "08029936610891438178"
     },
     "user_tz": 300
    },
    "id": "1dPLzWF1gpDD",
    "outputId": "15edd6e8-5bc1-4717-98d2-0c47fe34a5a5"
   },
   "outputs": [],
   "source": [
    "# store the RAM (in GB) name of the mobile in variable 'ram'\n",
    "ram = 4\n",
    "#print the value saved in the variable 'ram'\n",
    "print('The RAM of the mobile is', ram, 'GB')"
   ]
  },
  {
   "cell_type": "code",
   "execution_count": null,
   "metadata": {
    "colab": {
     "base_uri": "https://localhost:8080/"
    },
    "executionInfo": {
     "elapsed": 20,
     "status": "ok",
     "timestamp": 1648273611719,
     "user": {
      "displayName": "Andres Rojas",
      "photoUrl": "https://lh3.googleusercontent.com/a-/AOh14GhQZ_V21fUHbqa6Dqza57WcN-GjzAw-23gpKS_C=s64",
      "userId": "08029936610891438178"
     },
     "user_tz": 300
    },
    "id": "Kapo1yjJhdGO",
    "outputId": "6528f105-c560-46e0-9a2b-836685bf3070"
   },
   "outputs": [],
   "source": [
    "# store the internal storage (in GB) name of the mobile in variable 'storage'\n",
    "storage = 128\n",
    "# print the value saved in the variable 'storage'\n",
    "print('The internal storage of the mobile is', storage, 'GB')"
   ]
  },
  {
   "cell_type": "markdown",
   "metadata": {
    "id": "cUoyHOZhiTOS"
   },
   "source": [
    "Q. Let's say the store wants to save the information on the billing status of the above phone in a boolean variable. Write the code in Python to implement the same."
   ]
  },
  {
   "cell_type": "code",
   "execution_count": null,
   "metadata": {
    "colab": {
     "base_uri": "https://localhost:8080/"
    },
    "executionInfo": {
     "elapsed": 87,
     "status": "ok",
     "timestamp": 1648273611979,
     "user": {
      "displayName": "Andres Rojas",
      "photoUrl": "https://lh3.googleusercontent.com/a-/AOh14GhQZ_V21fUHbqa6Dqza57WcN-GjzAw-23gpKS_C=s64",
      "userId": "08029936610891438178"
     },
     "user_tz": 300
    },
    "id": "exjhrcuRhrMW",
    "outputId": "bb002563-775e-4e57-ae16-f84b73e817f0"
   },
   "outputs": [],
   "source": [
    "# a special type of the variable stores just True/False values. This is called a boolean variable.\n",
    "# create a boolean variable 'is_billed' to save the billing information\n",
    "is_billed = True\n",
    "print(is_billed)"
   ]
  },
  {
   "cell_type": "markdown",
   "metadata": {
    "id": "mVfOE9R6jTSS"
   },
   "source": [
    "Q. Check the data type of the variables **price, brand, ram,** and **storage**"
   ]
  },
  {
   "cell_type": "code",
   "execution_count": null,
   "metadata": {
    "colab": {
     "base_uri": "https://localhost:8080/"
    },
    "executionInfo": {
     "elapsed": 90,
     "status": "ok",
     "timestamp": 1648273611984,
     "user": {
      "displayName": "Andres Rojas",
      "photoUrl": "https://lh3.googleusercontent.com/a-/AOh14GhQZ_V21fUHbqa6Dqza57WcN-GjzAw-23gpKS_C=s64",
      "userId": "08029936610891438178"
     },
     "user_tz": 300
    },
    "id": "t64qCYY9jdhe",
    "outputId": "fa8a06bd-f964-43f1-ecd3-281df8145792"
   },
   "outputs": [],
   "source": [
    "# check the data-type using the type function\n",
    "type(price)"
   ]
  },
  {
   "cell_type": "code",
   "execution_count": null,
   "metadata": {
    "colab": {
     "base_uri": "https://localhost:8080/"
    },
    "executionInfo": {
     "elapsed": 90,
     "status": "ok",
     "timestamp": 1648273611987,
     "user": {
      "displayName": "Andres Rojas",
      "photoUrl": "https://lh3.googleusercontent.com/a-/AOh14GhQZ_V21fUHbqa6Dqza57WcN-GjzAw-23gpKS_C=s64",
      "userId": "08029936610891438178"
     },
     "user_tz": 300
    },
    "id": "MPcWUkewjj3a",
    "outputId": "769f0569-5def-486f-a25e-f2d62bf63e13"
   },
   "outputs": [],
   "source": [
    "# check the data-type using the type function\n",
    "type(brand)"
   ]
  },
  {
   "cell_type": "code",
   "execution_count": null,
   "metadata": {
    "colab": {
     "base_uri": "https://localhost:8080/"
    },
    "executionInfo": {
     "elapsed": 98,
     "status": "ok",
     "timestamp": 1648273611998,
     "user": {
      "displayName": "Andres Rojas",
      "photoUrl": "https://lh3.googleusercontent.com/a-/AOh14GhQZ_V21fUHbqa6Dqza57WcN-GjzAw-23gpKS_C=s64",
      "userId": "08029936610891438178"
     },
     "user_tz": 300
    },
    "id": "rdzmX8J6jl0t",
    "outputId": "7636422a-d74a-442d-9b15-480120dc6504"
   },
   "outputs": [],
   "source": [
    "# check the data-type using the type function\n",
    "type(ram)"
   ]
  },
  {
   "cell_type": "code",
   "execution_count": null,
   "metadata": {
    "colab": {
     "base_uri": "https://localhost:8080/"
    },
    "executionInfo": {
     "elapsed": 96,
     "status": "ok",
     "timestamp": 1648273611999,
     "user": {
      "displayName": "Andres Rojas",
      "photoUrl": "https://lh3.googleusercontent.com/a-/AOh14GhQZ_V21fUHbqa6Dqza57WcN-GjzAw-23gpKS_C=s64",
      "userId": "08029936610891438178"
     },
     "user_tz": 300
    },
    "id": "l1R4wxhvjpNq",
    "outputId": "b020f793-79de-4d01-c41b-73a5ddf7fe34"
   },
   "outputs": [],
   "source": [
    "# check the data-type using the type function\n",
    "type(storage)"
   ]
  },
  {
   "cell_type": "code",
   "execution_count": null,
   "metadata": {
    "colab": {
     "base_uri": "https://localhost:8080/"
    },
    "executionInfo": {
     "elapsed": 93,
     "status": "ok",
     "timestamp": 1648273612000,
     "user": {
      "displayName": "Andres Rojas",
      "photoUrl": "https://lh3.googleusercontent.com/a-/AOh14GhQZ_V21fUHbqa6Dqza57WcN-GjzAw-23gpKS_C=s64",
      "userId": "08029936610891438178"
     },
     "user_tz": 300
    },
    "id": "CjWcKMFSNgmq",
    "outputId": "3c110b72-4efb-452b-a09a-549f962879dd"
   },
   "outputs": [],
   "source": [
    "# check the data-type using the type function\n",
    "type(is_billed)"
   ]
  },
  {
   "cell_type": "markdown",
   "metadata": {
    "id": "nnSEXUmJOe6Z"
   },
   "source": [
    "Q. Let's say a customer buy two Apple iPhones (4GB, 128GB) at a price of $900 each. What will be the total bill that the customer has to pay?"
   ]
  },
  {
   "cell_type": "code",
   "execution_count": null,
   "metadata": {
    "colab": {
     "base_uri": "https://localhost:8080/"
    },
    "executionInfo": {
     "elapsed": 87,
     "status": "ok",
     "timestamp": 1648273612000,
     "user": {
      "displayName": "Andres Rojas",
      "photoUrl": "https://lh3.googleusercontent.com/a-/AOh14GhQZ_V21fUHbqa6Dqza57WcN-GjzAw-23gpKS_C=s64",
      "userId": "08029936610891438178"
     },
     "user_tz": 300
    },
    "id": "UM73Yn1rOHb3",
    "outputId": "96057fbb-6bff-4037-923d-72818ccdd9ba"
   },
   "outputs": [],
   "source": [
    "# Calculate the total bill and store it in variable 'bill'\n",
    "bill = price + price\n",
    "# the same result can be archieved by multiplication.\n",
    "bill = price*2\n",
    "print('The bill amount is $',bill,sep='')"
   ]
  },
  {
   "cell_type": "markdown",
   "metadata": {
    "id": "WrWVCPQbSkFW"
   },
   "source": [
    "Q. Let's say the store provide a discount of $15 dollars on the Apple iPhone (4GB,128GB) that costs 900. What will be the price of the iPhone after the discount?"
   ]
  },
  {
   "cell_type": "code",
   "execution_count": null,
   "metadata": {
    "colab": {
     "base_uri": "https://localhost:8080/"
    },
    "executionInfo": {
     "elapsed": 85,
     "status": "ok",
     "timestamp": 1648273612001,
     "user": {
      "displayName": "Andres Rojas",
      "photoUrl": "https://lh3.googleusercontent.com/a-/AOh14GhQZ_V21fUHbqa6Dqza57WcN-GjzAw-23gpKS_C=s64",
      "userId": "08029936610891438178"
     },
     "user_tz": 300
    },
    "id": "CPvxAnxrP29y",
    "outputId": "06c1465f-9e94-4d74-9e2c-95f193095df5"
   },
   "outputs": [],
   "source": [
    "# store the price (in dollars) of the mobile in variable 'price'\n",
    "price = 900\n",
    "# store the discount amount in variable 'discount'\n",
    "discount = 15\n",
    "# calculate the discounted price\n",
    "price_after_discount = price-discount\n",
    "print('The price of the iPhone after the discount is $',price_after_discount,sep='')"
   ]
  },
  {
   "cell_type": "markdown",
   "metadata": {
    "id": "516oglV7Sjuh"
   },
   "source": [
    "Q. Let's say a customer buys two Apple iPhone (4GB,128GB) and pays a total bill of $1800. Write the Python code to find the price if the Apple iPhone"
   ]
  },
  {
   "cell_type": "code",
   "execution_count": null,
   "metadata": {
    "colab": {
     "base_uri": "https://localhost:8080/"
    },
    "executionInfo": {
     "elapsed": 83,
     "status": "ok",
     "timestamp": 1648273612002,
     "user": {
      "displayName": "Andres Rojas",
      "photoUrl": "https://lh3.googleusercontent.com/a-/AOh14GhQZ_V21fUHbqa6Dqza57WcN-GjzAw-23gpKS_C=s64",
      "userId": "08029936610891438178"
     },
     "user_tz": 300
    },
    "id": "DpJd4NY8Sd6b",
    "outputId": "a5e5d7f6-6538-45a3-b3f0-9ce739057e9d"
   },
   "outputs": [],
   "source": [
    "# store the price (in dollars) of the mobile in variable 'bill'\n",
    "bill = 1800\n",
    "# calculate the price of one mobile\n",
    "price = bill/2\n",
    "print('The price of an Apple iPhone is $',price,sep='')"
   ]
  },
  {
   "cell_type": "markdown",
   "metadata": {
    "id": "S1397JqEUAok"
   },
   "source": [
    "Q. Let's say a customer buys x numbers of Apple iPhone (4GB,128GB) for $900 each. The total bill that the curstomer pays is 3600. Write the Python code to find the value of x."
   ]
  },
  {
   "cell_type": "code",
   "execution_count": null,
   "metadata": {
    "colab": {
     "base_uri": "https://localhost:8080/"
    },
    "executionInfo": {
     "elapsed": 78,
     "status": "ok",
     "timestamp": 1648273612003,
     "user": {
      "displayName": "Andres Rojas",
      "photoUrl": "https://lh3.googleusercontent.com/a-/AOh14GhQZ_V21fUHbqa6Dqza57WcN-GjzAw-23gpKS_C=s64",
      "userId": "08029936610891438178"
     },
     "user_tz": 300
    },
    "id": "pZMgjw72T_ou",
    "outputId": "fb6890e4-9a5e-46d6-e600-138b8018b14a"
   },
   "outputs": [],
   "source": [
    "# store the bill (in dollars) of the mobile in variable 'bill'\n",
    "bill = 3600\n",
    "# store the price (in dollars) of the mobile in variable 'price'\n",
    "price = 900\n",
    "# calculate the numbers of iPhones that the customer buys\n",
    "x = bill // price\n",
    "# Double divided forces the answer to be an integer\n",
    "print('The customer buys',x,'Apple iPhones')"
   ]
  },
  {
   "cell_type": "markdown",
   "metadata": {
    "id": "ce0LnM1lb89e"
   },
   "source": [
    "Q. Suppose the store plans to provide a 4.5% discount on the Apple iPhone. What will be the discounted price of the mobile?\n",
    "\n",
    "**Type of conversion**: The process of converting one data type to another data type is called type of conversion.\n",
    "\n",
    "In Python, we can perform two types of type conversion.\n",
    "\n",
    "\n",
    "1.   Implicit Type Conversion: Here, Python automatically converts one data type to another in order to avoid data loss\n",
    "2.   Explicit Type Converion: Here, the user can convert the data type of a variable to the required data type by using the in-built functions int(), float(), str(), etc.\n",
    "\n"
   ]
  },
  {
   "cell_type": "code",
   "execution_count": null,
   "metadata": {
    "colab": {
     "base_uri": "https://localhost:8080/"
    },
    "executionInfo": {
     "elapsed": 74,
     "status": "ok",
     "timestamp": 1648273612003,
     "user": {
      "displayName": "Andres Rojas",
      "photoUrl": "https://lh3.googleusercontent.com/a-/AOh14GhQZ_V21fUHbqa6Dqza57WcN-GjzAw-23gpKS_C=s64",
      "userId": "08029936610891438178"
     },
     "user_tz": 300
    },
    "id": "zEhiZU3vc0gW",
    "outputId": "24a60016-ff90-4c60-c666-6aae6883a6b7"
   },
   "outputs": [],
   "source": [
    "# Store the price (in dollars) of the mobile in variable 'price'\n",
    "price = 900\n",
    "# Calcuate the discount amount\n",
    "discount = price * 0.045\n",
    "# Calcuate the discounted price\n",
    "discounted_price = price - discount\n",
    "print('The discounted price of the iPhone is '+str(discounted_price))"
   ]
  },
  {
   "cell_type": "code",
   "execution_count": null,
   "metadata": {
    "colab": {
     "base_uri": "https://localhost:8080/"
    },
    "executionInfo": {
     "elapsed": 73,
     "status": "ok",
     "timestamp": 1648273612005,
     "user": {
      "displayName": "Andres Rojas",
      "photoUrl": "https://lh3.googleusercontent.com/a-/AOh14GhQZ_V21fUHbqa6Dqza57WcN-GjzAw-23gpKS_C=s64",
      "userId": "08029936610891438178"
     },
     "user_tz": 300
    },
    "id": "ReLAXlB-eUAy",
    "outputId": "698a06f8-63b3-4eb6-93f3-7c02fb53f8f6"
   },
   "outputs": [],
   "source": [
    "type(discounted_price)"
   ]
  },
  {
   "cell_type": "markdown",
   "metadata": {
    "id": "5UQsEWp8dPmR"
   },
   "source": [
    "Now, let's check the data type of the variables 'discount' and 'price'"
   ]
  },
  {
   "cell_type": "code",
   "execution_count": null,
   "metadata": {
    "colab": {
     "base_uri": "https://localhost:8080/"
    },
    "executionInfo": {
     "elapsed": 78,
     "status": "ok",
     "timestamp": 1648273612013,
     "user": {
      "displayName": "Andres Rojas",
      "photoUrl": "https://lh3.googleusercontent.com/a-/AOh14GhQZ_V21fUHbqa6Dqza57WcN-GjzAw-23gpKS_C=s64",
      "userId": "08029936610891438178"
     },
     "user_tz": 300
    },
    "id": "dz9_ztlFdXfB",
    "outputId": "4e646afc-2041-443a-e722-07a4bef97622"
   },
   "outputs": [],
   "source": [
    "print('The data type of the variable price is',type(price))\n",
    "print('The data type of the variable discoint is',type(discount))"
   ]
  },
  {
   "cell_type": "markdown",
   "metadata": {
    "id": "IPhCn996gd1t"
   },
   "source": [
    "As we can see, the data type of 'discount' is float as Python is implicity converting to lower data type to a higher data type to avoid data loss.\n",
    "\n",
    "Suppose we want to add the variables **brand, ram** and **storage.**\n",
    "\n",
    "Will the implicit conversion work?\n",
    "Let's try it!"
   ]
  },
  {
   "cell_type": "markdown",
   "metadata": {
    "id": "MJW3Efz3h050"
   },
   "source": [
    "As we can see from the output, the TypeError is being raised which indicates that Python is not able to use Implicit Conversion in such conditions.\n",
    "\n",
    "But, we can do an explicit conversion for such cases."
   ]
  },
  {
   "cell_type": "code",
   "execution_count": null,
   "metadata": {
    "colab": {
     "base_uri": "https://localhost:8080/",
     "height": 35
    },
    "executionInfo": {
     "elapsed": 76,
     "status": "ok",
     "timestamp": 1648273612014,
     "user": {
      "displayName": "Andres Rojas",
      "photoUrl": "https://lh3.googleusercontent.com/a-/AOh14GhQZ_V21fUHbqa6Dqza57WcN-GjzAw-23gpKS_C=s64",
      "userId": "08029936610891438178"
     },
     "user_tz": 300
    },
    "id": "h937dFJTiFwb",
    "outputId": "0b91e978-44c9-43f6-f31b-d11c00e41d01"
   },
   "outputs": [],
   "source": [
    "brand + ' ' + str(ram) + 'GB'"
   ]
  },
  {
   "cell_type": "markdown",
   "metadata": {
    "id": "JZ1ELIfTi5Bj"
   },
   "source": [
    "# **1.5 Data Structure:** List"
   ]
  },
  {
   "cell_type": "code",
   "execution_count": null,
   "metadata": {
    "colab": {
     "base_uri": "https://localhost:8080/"
    },
    "executionInfo": {
     "elapsed": 74,
     "status": "ok",
     "timestamp": 1648273612017,
     "user": {
      "displayName": "Andres Rojas",
      "photoUrl": "https://lh3.googleusercontent.com/a-/AOh14GhQZ_V21fUHbqa6Dqza57WcN-GjzAw-23gpKS_C=s64",
      "userId": "08029936610891438178"
     },
     "user_tz": 300
    },
    "id": "o90oruhAjRkC",
    "outputId": "5908820d-970b-4ed8-865c-e5bf7d80725d"
   },
   "outputs": [],
   "source": [
    "# Create a List\n",
    "brand_list = ['Apple','Samsung','LG', 'Apple']\n",
    "brand_list"
   ]
  },
  {
   "cell_type": "code",
   "execution_count": null,
   "metadata": {
    "colab": {
     "base_uri": "https://localhost:8080/"
    },
    "executionInfo": {
     "elapsed": 73,
     "status": "ok",
     "timestamp": 1648273612020,
     "user": {
      "displayName": "Andres Rojas",
      "photoUrl": "https://lh3.googleusercontent.com/a-/AOh14GhQZ_V21fUHbqa6Dqza57WcN-GjzAw-23gpKS_C=s64",
      "userId": "08029936610891438178"
     },
     "user_tz": 300
    },
    "id": "kWP0LSjRjgDe",
    "outputId": "119c2828-2fe2-4fef-aa1d-8146ad2965a8"
   },
   "outputs": [],
   "source": [
    "# type of variable 'brand_list'\n",
    "type(brand_list)"
   ]
  },
  {
   "cell_type": "code",
   "execution_count": null,
   "metadata": {
    "id": "R0QL3RayjoT1"
   },
   "outputs": [],
   "source": [
    "# list for others attributes as well\n",
    "ram_list = [4,12,8,8]\n",
    "storage_list = [128,128,64,128]\n",
    "price_list =[900,899,600,1000]"
   ]
  },
  {
   "cell_type": "code",
   "execution_count": null,
   "metadata": {
    "colab": {
     "base_uri": "https://localhost:8080/"
    },
    "executionInfo": {
     "elapsed": 74,
     "status": "ok",
     "timestamp": 1648273612025,
     "user": {
      "displayName": "Andres Rojas",
      "photoUrl": "https://lh3.googleusercontent.com/a-/AOh14GhQZ_V21fUHbqa6Dqza57WcN-GjzAw-23gpKS_C=s64",
      "userId": "08029936610891438178"
     },
     "user_tz": 300
    },
    "id": "5GeEbhnwj89a",
    "outputId": "31aa9510-2cb3-4de1-81a1-ac057d03ae38"
   },
   "outputs": [],
   "source": [
    "# print list created\n",
    "print('RAM List:', ram_list)\n",
    "print('Storage List:', storage_list)\n",
    "print('Price List:', price_list)"
   ]
  },
  {
   "cell_type": "code",
   "execution_count": null,
   "metadata": {
    "colab": {
     "base_uri": "https://localhost:8080/"
    },
    "executionInfo": {
     "elapsed": 74,
     "status": "ok",
     "timestamp": 1648273612028,
     "user": {
      "displayName": "Andres Rojas",
      "photoUrl": "https://lh3.googleusercontent.com/a-/AOh14GhQZ_V21fUHbqa6Dqza57WcN-GjzAw-23gpKS_C=s64",
      "userId": "08029936610891438178"
     },
     "user_tz": 300
    },
    "id": "CXXXkgt6kT56",
    "outputId": "ad50bcfc-a504-4299-e56d-1dc9430b2562"
   },
   "outputs": [],
   "source": [
    "# len function\n",
    "len(brand_list)"
   ]
  },
  {
   "cell_type": "code",
   "execution_count": null,
   "metadata": {
    "colab": {
     "base_uri": "https://localhost:8080/"
    },
    "executionInfo": {
     "elapsed": 86,
     "status": "ok",
     "timestamp": 1648273612297,
     "user": {
      "displayName": "Andres Rojas",
      "photoUrl": "https://lh3.googleusercontent.com/a-/AOh14GhQZ_V21fUHbqa6Dqza57WcN-GjzAw-23gpKS_C=s64",
      "userId": "08029936610891438178"
     },
     "user_tz": 300
    },
    "id": "dk-uVkp9keYk",
    "outputId": "512c56c3-13de-40bf-d2d0-db67034db3d7"
   },
   "outputs": [],
   "source": [
    "# Minimun price\n",
    "min_price = min(price_list)\n",
    "print('the minimun price is $'+str(min_price))\n",
    "# Maximum price\n",
    "max_price = max(price_list)\n",
    "print('the maximum price is $'+str(max_price))"
   ]
  },
  {
   "cell_type": "code",
   "execution_count": null,
   "metadata": {
    "colab": {
     "base_uri": "https://localhost:8080/"
    },
    "executionInfo": {
     "elapsed": 85,
     "status": "ok",
     "timestamp": 1648273612298,
     "user": {
      "displayName": "Andres Rojas",
      "photoUrl": "https://lh3.googleusercontent.com/a-/AOh14GhQZ_V21fUHbqa6Dqza57WcN-GjzAw-23gpKS_C=s64",
      "userId": "08029936610891438178"
     },
     "user_tz": 300
    },
    "id": "QCazUiqSk_E0",
    "outputId": "75d86cee-cf36-4b80-aed6-676e92f59e39"
   },
   "outputs": [],
   "source": [
    "# print the third value\n",
    "print(ram_list[2])"
   ]
  },
  {
   "cell_type": "code",
   "execution_count": null,
   "metadata": {
    "colab": {
     "base_uri": "https://localhost:8080/"
    },
    "executionInfo": {
     "elapsed": 76,
     "status": "ok",
     "timestamp": 1648273612298,
     "user": {
      "displayName": "Andres Rojas",
      "photoUrl": "https://lh3.googleusercontent.com/a-/AOh14GhQZ_V21fUHbqa6Dqza57WcN-GjzAw-23gpKS_C=s64",
      "userId": "08029936610891438178"
     },
     "user_tz": 300
    },
    "id": "gFwZMOvAlIGx",
    "outputId": "ba61970a-526b-4dfe-9708-265a7d299f97"
   },
   "outputs": [],
   "source": [
    "# print the first three items of price_list\n",
    "print(price_list[0:3])"
   ]
  },
  {
   "cell_type": "code",
   "execution_count": null,
   "metadata": {
    "colab": {
     "base_uri": "https://localhost:8080/"
    },
    "executionInfo": {
     "elapsed": 71,
     "status": "ok",
     "timestamp": 1648273612299,
     "user": {
      "displayName": "Andres Rojas",
      "photoUrl": "https://lh3.googleusercontent.com/a-/AOh14GhQZ_V21fUHbqa6Dqza57WcN-GjzAw-23gpKS_C=s64",
      "userId": "08029936610891438178"
     },
     "user_tz": 300
    },
    "id": "65azNP1dltWG",
    "outputId": "9ddf9dee-771c-40d7-e694-1b643324e285"
   },
   "outputs": [],
   "source": [
    "# last item in brand_list\n",
    "print(brand_list[-1])"
   ]
  },
  {
   "cell_type": "code",
   "execution_count": null,
   "metadata": {
    "colab": {
     "base_uri": "https://localhost:8080/"
    },
    "executionInfo": {
     "elapsed": 68,
     "status": "ok",
     "timestamp": 1648273612299,
     "user": {
      "displayName": "Andres Rojas",
      "photoUrl": "https://lh3.googleusercontent.com/a-/AOh14GhQZ_V21fUHbqa6Dqza57WcN-GjzAw-23gpKS_C=s64",
      "userId": "08029936610891438178"
     },
     "user_tz": 300
    },
    "id": "_kC7bfdXl4Qy",
    "outputId": "aa5906c6-f059-4dde-bc2b-547337971ef3"
   },
   "outputs": [],
   "source": [
    "# remove the las element from the brand_list using pop(). If the item is not specified, by default, it removes the last element.\n",
    "brand_list.pop()\n",
    "brand_list"
   ]
  },
  {
   "cell_type": "code",
   "execution_count": null,
   "metadata": {
    "colab": {
     "base_uri": "https://localhost:8080/"
    },
    "executionInfo": {
     "elapsed": 66,
     "status": "ok",
     "timestamp": 1648273612300,
     "user": {
      "displayName": "Andres Rojas",
      "photoUrl": "https://lh3.googleusercontent.com/a-/AOh14GhQZ_V21fUHbqa6Dqza57WcN-GjzAw-23gpKS_C=s64",
      "userId": "08029936610891438178"
     },
     "user_tz": 300
    },
    "id": "7muxTGoqmRRF",
    "outputId": "21510e1a-2b9d-4a38-c764-f81c1a263f0b"
   },
   "outputs": [],
   "source": [
    "# insert a item in the list. Using append() method. append() add a single item to an existing list.\n",
    "brand_list.append('Motorola')\n",
    "brand_list"
   ]
  },
  {
   "cell_type": "code",
   "execution_count": null,
   "metadata": {
    "colab": {
     "base_uri": "https://localhost:8080/"
    },
    "executionInfo": {
     "elapsed": 62,
     "status": "ok",
     "timestamp": 1648273612300,
     "user": {
      "displayName": "Andres Rojas",
      "photoUrl": "https://lh3.googleusercontent.com/a-/AOh14GhQZ_V21fUHbqa6Dqza57WcN-GjzAw-23gpKS_C=s64",
      "userId": "08029936610891438178"
     },
     "user_tz": 300
    },
    "id": "v8kqCBvWnIVk",
    "outputId": "f32b43d3-789f-47b6-b1ae-e9deef9bd0f9"
   },
   "outputs": [],
   "source": [
    "# modifying item using the index\n",
    "brand_list[3] = 'Apple'\n",
    "brand_list"
   ]
  },
  {
   "cell_type": "code",
   "execution_count": null,
   "metadata": {
    "colab": {
     "base_uri": "https://localhost:8080/"
    },
    "executionInfo": {
     "elapsed": 55,
     "status": "ok",
     "timestamp": 1648273612301,
     "user": {
      "displayName": "Andres Rojas",
      "photoUrl": "https://lh3.googleusercontent.com/a-/AOh14GhQZ_V21fUHbqa6Dqza57WcN-GjzAw-23gpKS_C=s64",
      "userId": "08029936610891438178"
     },
     "user_tz": 300
    },
    "id": "IALZ_JJPnWtx",
    "outputId": "9df23caa-708b-49a8-912b-ccef6209fc8d"
   },
   "outputs": [],
   "source": [
    "# modifying item using the index\n",
    "brand_list[3] = 'Motorola'\n",
    "brand_list"
   ]
  },
  {
   "cell_type": "markdown",
   "metadata": {
    "id": "z8q6XSqvmrGH"
   },
   "source": [
    "# **1.6 Data Structure:** Tuple\n",
    "Mutable data structure. Sometimes, you might want to store data which should not be altered, for example storage. The storage in a mobile phone is in terms of powers of 2, that is, 32 GB, 64 GB etc. You do not want to alter the nummber 32 and change it to 30.\n",
    "\n",
    "Q. Store the storage specification as an immutable variable."
   ]
  },
  {
   "cell_type": "code",
   "execution_count": null,
   "metadata": {
    "colab": {
     "base_uri": "https://localhost:8080/"
    },
    "executionInfo": {
     "elapsed": 51,
     "status": "ok",
     "timestamp": 1648273612301,
     "user": {
      "displayName": "Andres Rojas",
      "photoUrl": "https://lh3.googleusercontent.com/a-/AOh14GhQZ_V21fUHbqa6Dqza57WcN-GjzAw-23gpKS_C=s64",
      "userId": "08029936610891438178"
     },
     "user_tz": 300
    },
    "id": "_978ffggpCA9",
    "outputId": "aa2eb96b-e19c-4c4c-c1f5-6d72b76297bb"
   },
   "outputs": [],
   "source": [
    "storage = (32,64,128,256)\n",
    "print(storage)"
   ]
  },
  {
   "cell_type": "code",
   "execution_count": null,
   "metadata": {
    "colab": {
     "base_uri": "https://localhost:8080/"
    },
    "executionInfo": {
     "elapsed": 48,
     "status": "ok",
     "timestamp": 1648273612302,
     "user": {
      "displayName": "Andres Rojas",
      "photoUrl": "https://lh3.googleusercontent.com/a-/AOh14GhQZ_V21fUHbqa6Dqza57WcN-GjzAw-23gpKS_C=s64",
      "userId": "08029936610891438178"
     },
     "user_tz": 300
    },
    "id": "2pi3logRpKp2",
    "outputId": "dd6d1bf2-d3a4-4c53-921d-f0dc5943d684"
   },
   "outputs": [],
   "source": [
    "type(storage)"
   ]
  },
  {
   "cell_type": "code",
   "execution_count": null,
   "metadata": {
    "colab": {
     "base_uri": "https://localhost:8080/"
    },
    "executionInfo": {
     "elapsed": 43,
     "status": "ok",
     "timestamp": 1648273612302,
     "user": {
      "displayName": "Andres Rojas",
      "photoUrl": "https://lh3.googleusercontent.com/a-/AOh14GhQZ_V21fUHbqa6Dqza57WcN-GjzAw-23gpKS_C=s64",
      "userId": "08029936610891438178"
     },
     "user_tz": 300
    },
    "id": "CAFI9NihphGP",
    "outputId": "7297c9cb-6843-4cda-c564-7f756831d84a"
   },
   "outputs": [],
   "source": [
    "# index a tuple\n",
    "print(storage[1])"
   ]
  },
  {
   "cell_type": "markdown",
   "metadata": {
    "id": "xpkSBRQcqcc4"
   },
   "source": [
    "# **1.7 Data Structures:** Dictionary\n",
    "A dictionary are written with curly brackets, and have keys and values.\n",
    "\n",
    "Items are ordered, changeable and does not allows duplicates"
   ]
  },
  {
   "cell_type": "code",
   "execution_count": null,
   "metadata": {
    "colab": {
     "base_uri": "https://localhost:8080/"
    },
    "executionInfo": {
     "elapsed": 41,
     "status": "ok",
     "timestamp": 1648273612303,
     "user": {
      "displayName": "Andres Rojas",
      "photoUrl": "https://lh3.googleusercontent.com/a-/AOh14GhQZ_V21fUHbqa6Dqza57WcN-GjzAw-23gpKS_C=s64",
      "userId": "08029936610891438178"
     },
     "user_tz": 300
    },
    "id": "HuRWdFeIqtoa",
    "outputId": "d274594f-3ef7-46de-f252-2db45197ef58"
   },
   "outputs": [],
   "source": [
    "# the store wants to store the attributes brand, ram, storage, and price in a single variable\n",
    "# creating a dictionary\n",
    "attributes = {\n",
    "    'Brand':'Apple',\n",
    "    'RAM (in GB)':'4',\n",
    "    'Storage (in GB)':128,\n",
    "    'Price (in $)':800\n",
    "}\n",
    "print(attributes)\n",
    "type(attributes)"
   ]
  },
  {
   "cell_type": "code",
   "execution_count": null,
   "metadata": {
    "colab": {
     "base_uri": "https://localhost:8080/"
    },
    "executionInfo": {
     "elapsed": 37,
     "status": "ok",
     "timestamp": 1648273612303,
     "user": {
      "displayName": "Andres Rojas",
      "photoUrl": "https://lh3.googleusercontent.com/a-/AOh14GhQZ_V21fUHbqa6Dqza57WcN-GjzAw-23gpKS_C=s64",
      "userId": "08029936610891438178"
     },
     "user_tz": 300
    },
    "id": "73VdP4u3rpvx",
    "outputId": "81a27c6e-57cf-43ab-ce42-f11832938f22"
   },
   "outputs": [],
   "source": [
    "# Extract information from dictionary\n",
    "print(attributes['Price (in $)'])"
   ]
  },
  {
   "cell_type": "code",
   "execution_count": null,
   "metadata": {
    "colab": {
     "base_uri": "https://localhost:8080/"
    },
    "executionInfo": {
     "elapsed": 35,
     "status": "ok",
     "timestamp": 1648273612304,
     "user": {
      "displayName": "Andres Rojas",
      "photoUrl": "https://lh3.googleusercontent.com/a-/AOh14GhQZ_V21fUHbqa6Dqza57WcN-GjzAw-23gpKS_C=s64",
      "userId": "08029936610891438178"
     },
     "user_tz": 300
    },
    "id": "bjVAtHyysD-A",
    "outputId": "06b7a583-321a-4ca3-b240-2423dc29df40"
   },
   "outputs": [],
   "source": [
    "# change information in attributes\n",
    "attributes['Price (in $)'] = 900\n",
    "print(attributes)"
   ]
  },
  {
   "cell_type": "code",
   "execution_count": null,
   "metadata": {
    "colab": {
     "base_uri": "https://localhost:8080/"
    },
    "executionInfo": {
     "elapsed": 32,
     "status": "ok",
     "timestamp": 1648273612304,
     "user": {
      "displayName": "Andres Rojas",
      "photoUrl": "https://lh3.googleusercontent.com/a-/AOh14GhQZ_V21fUHbqa6Dqza57WcN-GjzAw-23gpKS_C=s64",
      "userId": "08029936610891438178"
     },
     "user_tz": 300
    },
    "id": "agdRQYxtsUMT",
    "outputId": "839c17a8-8466-433a-8979-4752e4d9e435"
   },
   "outputs": [],
   "source": [
    "# Store multiple mobile phones in a dictionary\n",
    "products = {\n",
    "    'Brand':brand_list,\n",
    "    'RAM (in GB)':ram_list,\n",
    "    'Storage (in GB)':storage_list,\n",
    "    'Price (in $)':price_list\n",
    "}\n",
    "print(products)\n",
    "type(products)"
   ]
  },
  {
   "cell_type": "code",
   "execution_count": null,
   "metadata": {
    "colab": {
     "base_uri": "https://localhost:8080/"
    },
    "executionInfo": {
     "elapsed": 23,
     "status": "ok",
     "timestamp": 1648273612304,
     "user": {
      "displayName": "Andres Rojas",
      "photoUrl": "https://lh3.googleusercontent.com/a-/AOh14GhQZ_V21fUHbqa6Dqza57WcN-GjzAw-23gpKS_C=s64",
      "userId": "08029936610891438178"
     },
     "user_tz": 300
    },
    "id": "Kkz0G-Y-ss3s",
    "outputId": "ae5f8fe3-a677-4120-ffde-76380ec38efc"
   },
   "outputs": [],
   "source": [
    "# extract the keys and values from the dictionary products\n",
    "keys = products.keys()\n",
    "print('The keys of the dictionary are :\\n',keys)\n",
    "# Values of a dictionary\n",
    "values = products.values()\n",
    "print('The values of the dictionary are :\\n', values)"
   ]
  },
  {
   "cell_type": "code",
   "execution_count": null,
   "metadata": {
    "colab": {
     "base_uri": "https://localhost:8080/"
    },
    "executionInfo": {
     "elapsed": 20,
     "status": "ok",
     "timestamp": 1648273612305,
     "user": {
      "displayName": "Andres Rojas",
      "photoUrl": "https://lh3.googleusercontent.com/a-/AOh14GhQZ_V21fUHbqa6Dqza57WcN-GjzAw-23gpKS_C=s64",
      "userId": "08029936610891438178"
     },
     "user_tz": 300
    },
    "id": "_Gs2km9ntk1u",
    "outputId": "52717915-990f-46c5-9577-a0515d6e1e33"
   },
   "outputs": [],
   "source": [
    "products['RAM (in GB)'][1]"
   ]
  },
  {
   "cell_type": "markdown",
   "metadata": {
    "id": "IVn5YL8ttbU-"
   },
   "source": [
    "# **1.8 Conditional Statements if: else:**"
   ]
  },
  {
   "cell_type": "code",
   "execution_count": null,
   "metadata": {
    "colab": {
     "base_uri": "https://localhost:8080/"
    },
    "executionInfo": {
     "elapsed": 3403,
     "status": "ok",
     "timestamp": 1648273615692,
     "user": {
      "displayName": "Andres Rojas",
      "photoUrl": "https://lh3.googleusercontent.com/a-/AOh14GhQZ_V21fUHbqa6Dqza57WcN-GjzAw-23gpKS_C=s64",
      "userId": "08029936610891438178"
     },
     "user_tz": 300
    },
    "id": "FP-5MVTTunky",
    "outputId": "0cd30d98-b326-4906-bdc5-b848f464198d"
   },
   "outputs": [],
   "source": [
    "# define the budget price\n",
    "\n",
    "budget = int(input('Enter your budget(in dollars): '))\n",
    "# if-else statement\n",
    "if price <= budget:\n",
    "  print('Congrats! You can buy the iPhone')\n",
    "else:\n",
    "  print('Sorry! The mobile price is more than your budget')"
   ]
  },
  {
   "cell_type": "code",
   "execution_count": null,
   "metadata": {
    "colab": {
     "base_uri": "https://localhost:8080/"
    },
    "executionInfo": {
     "elapsed": 2057,
     "status": "ok",
     "timestamp": 1648273770107,
     "user": {
      "displayName": "Andres Rojas",
      "photoUrl": "https://lh3.googleusercontent.com/a-/AOh14GhQZ_V21fUHbqa6Dqza57WcN-GjzAw-23gpKS_C=s64",
      "userId": "08029936610891438178"
     },
     "user_tz": 300
    },
    "id": "2kK5kXKqvdU0",
    "outputId": "82a27185-cb8f-40db-c2ee-7f8e7a14805a"
   },
   "outputs": [],
   "source": [
    "# if-elif-else statement\n",
    "Memory = int(input('Enter the memory: '))\n",
    "if Memory == 32:\n",
    "  print('The price of the phone is $600')\n",
    "elif Memory == 64:\n",
    "  print('The price of the phone is $700')\n",
    "elif Memory == 128:\n",
    "  print('The price of the phone is $900')\n",
    "else:\n",
    "  print('Please enter a valid memory requirement')"
   ]
  },
  {
   "cell_type": "markdown",
   "metadata": {
    "id": "PWBa0HGhxjok"
   },
   "source": [
    "# **1.9 Looping Statements**\n",
    "\n",
    "Loops are used in python to iterate over a sequence"
   ]
  },
  {
   "cell_type": "code",
   "execution_count": null,
   "metadata": {
    "colab": {
     "base_uri": "https://localhost:8080/"
    },
    "executionInfo": {
     "elapsed": 189,
     "status": "ok",
     "timestamp": 1648274350981,
     "user": {
      "displayName": "Andres Rojas",
      "photoUrl": "https://lh3.googleusercontent.com/a-/AOh14GhQZ_V21fUHbqa6Dqza57WcN-GjzAw-23gpKS_C=s64",
      "userId": "08029936610891438178"
     },
     "user_tz": 300
    },
    "id": "6IQw79d5yz1i",
    "outputId": "fe7d940a-8222-48e6-db75-6281d23e4586"
   },
   "outputs": [],
   "source": [
    "# Range function range(). This method returns as immutable sequence of numbers between the given start integer to the stop integer\n",
    "print(range(6))"
   ]
  },
  {
   "cell_type": "code",
   "execution_count": null,
   "metadata": {
    "colab": {
     "base_uri": "https://localhost:8080/"
    },
    "executionInfo": {
     "elapsed": 193,
     "status": "ok",
     "timestamp": 1648274418100,
     "user": {
      "displayName": "Andres Rojas",
      "photoUrl": "https://lh3.googleusercontent.com/a-/AOh14GhQZ_V21fUHbqa6Dqza57WcN-GjzAw-23gpKS_C=s64",
      "userId": "08029936610891438178"
     },
     "user_tz": 300
    },
    "id": "k30Hg6Czz5Aa",
    "outputId": "5e018491-07fc-4e4f-d63e-e902ee4c7334"
   },
   "outputs": [],
   "source": [
    "print(list(range(6)))"
   ]
  },
  {
   "cell_type": "code",
   "execution_count": null,
   "metadata": {
    "colab": {
     "base_uri": "https://localhost:8080/"
    },
    "executionInfo": {
     "elapsed": 197,
     "status": "ok",
     "timestamp": 1648274387720,
     "user": {
      "displayName": "Andres Rojas",
      "photoUrl": "https://lh3.googleusercontent.com/a-/AOh14GhQZ_V21fUHbqa6Dqza57WcN-GjzAw-23gpKS_C=s64",
      "userId": "08029936610891438178"
     },
     "user_tz": 300
    },
    "id": "ShQaGo7ozujU",
    "outputId": "918b764b-acf1-415c-b206-016cf4ba3747"
   },
   "outputs": [],
   "source": [
    "print(list(range(2,6)))"
   ]
  },
  {
   "cell_type": "code",
   "execution_count": null,
   "metadata": {
    "colab": {
     "base_uri": "https://localhost:8080/"
    },
    "executionInfo": {
     "elapsed": 182,
     "status": "ok",
     "timestamp": 1648274434458,
     "user": {
      "displayName": "Andres Rojas",
      "photoUrl": "https://lh3.googleusercontent.com/a-/AOh14GhQZ_V21fUHbqa6Dqza57WcN-GjzAw-23gpKS_C=s64",
      "userId": "08029936610891438178"
     },
     "user_tz": 300
    },
    "id": "Szt9c206z8VW",
    "outputId": "e24638c1-4545-4222-9371-ceeebb5d77f6"
   },
   "outputs": [],
   "source": [
    "print(list(range(6,15,2)))"
   ]
  },
  {
   "cell_type": "markdown",
   "metadata": {
    "id": "8S_fB8A30tHO"
   },
   "source": [
    "\"For\" Loop sintax\n",
    "\n",
    "```\n",
    "for iterator_var in sequence:\n",
    "   statements(s)\n",
    "```\n"
   ]
  },
  {
   "cell_type": "code",
   "execution_count": null,
   "metadata": {
    "colab": {
     "base_uri": "https://localhost:8080/"
    },
    "executionInfo": {
     "elapsed": 165,
     "status": "ok",
     "timestamp": 1648274867909,
     "user": {
      "displayName": "Andres Rojas",
      "photoUrl": "https://lh3.googleusercontent.com/a-/AOh14GhQZ_V21fUHbqa6Dqza57WcN-GjzAw-23gpKS_C=s64",
      "userId": "08029936610891438178"
     },
     "user_tz": 300
    },
    "id": "6hU6GAcY1G5e",
    "outputId": "e0d65807-e8a7-41f3-acad-34250b7eaf4e"
   },
   "outputs": [],
   "source": [
    "# store the price (in dollars) of the mobile in variable 'Price'\n",
    "price = 900\n",
    "#start the loop\n",
    "for i in range(5,21,5):\n",
    "  #calculate the discount amount\n",
    "  discount = price * (i/100)\n",
    "  #calculate the discount price\n",
    "  discounted_price = price - discount\n",
    "  #print the discounted price\n",
    "  print('The price after providing ',i,' percent discount is $', discounted_price,sep='')"
   ]
  },
  {
   "cell_type": "markdown",
   "metadata": {
    "id": "jd6XUW5f1we0"
   },
   "source": [
    "\"While\" Loop sintax.\n",
    "\n",
    "\n",
    "```\n",
    "while condition:\n",
    "   statements(s)\n",
    "```\n"
   ]
  },
  {
   "cell_type": "code",
   "execution_count": null,
   "metadata": {
    "colab": {
     "base_uri": "https://localhost:8080/"
    },
    "executionInfo": {
     "elapsed": 187,
     "status": "ok",
     "timestamp": 1648275444615,
     "user": {
      "displayName": "Andres Rojas",
      "photoUrl": "https://lh3.googleusercontent.com/a-/AOh14GhQZ_V21fUHbqa6Dqza57WcN-GjzAw-23gpKS_C=s64",
      "userId": "08029936610891438178"
     },
     "user_tz": 300
    },
    "id": "XNB-TKfB3nbi",
    "outputId": "ec92b6a3-df4b-4093-bb09-32c02cf468db"
   },
   "outputs": [],
   "source": [
    "# store the price (in dollars) of the mobile in variable 'Price'\n",
    "price = 900\n",
    "#set the value of i to 5\n",
    "i=5\n",
    "#start the loop\n",
    "while i<=20:\n",
    "  #calculate the discount amount\n",
    "  discount = price * (i/100)\n",
    "  #calculate the discount price\n",
    "  discounted_price = price - discount\n",
    "  #print the discounted price\n",
    "  print('The price after providing ',i,' percent discount is $', discounted_price,sep='')\n",
    "  # increase the value of i by 5\n",
    "  i+=5"
   ]
  },
  {
   "cell_type": "markdown",
   "metadata": {
    "id": "7KSlEE355owO"
   },
   "source": [
    "# **1.11 List comprehension**\n",
    "MobiWorld has decided to provide an instant discount of 5% on all their products during the upcoming sale. We want to check the discounted prices of the products.\n",
    "\n",
    "We already have the `price_list` with us. Let's use it to get the discounted prices."
   ]
  },
  {
   "cell_type": "markdown",
   "metadata": {
    "id": "NTD6mJ1K7b4O"
   },
   "source": [
    "One way of creating a discounted price list is by looping over the elements of `price_list`, subtracting the discount from the price, and adding it one at a time to a new list `discounted_price_list`."
   ]
  },
  {
   "cell_type": "code",
   "execution_count": null,
   "metadata": {
    "colab": {
     "base_uri": "https://localhost:8080/"
    },
    "executionInfo": {
     "elapsed": 175,
     "status": "ok",
     "timestamp": 1648276405394,
     "user": {
      "displayName": "Andres Rojas",
      "photoUrl": "https://lh3.googleusercontent.com/a-/AOh14GhQZ_V21fUHbqa6Dqza57WcN-GjzAw-23gpKS_C=s64",
      "userId": "08029936610891438178"
     },
     "user_tz": 300
    },
    "id": "YKRR-2i57fCo",
    "outputId": "3b98252b-8064-4939-8d5f-b27f38039a05"
   },
   "outputs": [],
   "source": [
    "discounted_price_list=[]\n",
    "\n",
    "for x in price_list:\n",
    "  discounted_price = x - (x*(5/100))\n",
    "  discounted_price_list.append(discounted_price)\n",
    "\n",
    "print(discounted_price_list)"
   ]
  },
  {
   "cell_type": "markdown",
   "metadata": {
    "id": "U6gKA4sf7ijR"
   },
   "source": [
    "An equivalent way of obtaining the same result is by using **list comprehensions**.\n",
    "\n",
    "* List comprehension is a type of control structure for creating a list from an existing iterable (like tuples, strings, arrays, lists, etc).\n",
    "* They offer a shorter and more appealing syntax and are often faster than explicit for loops in creating a list from an existing iterable."
   ]
  },
  {
   "cell_type": "code",
   "execution_count": null,
   "metadata": {
    "colab": {
     "base_uri": "https://localhost:8080/"
    },
    "executionInfo": {
     "elapsed": 214,
     "status": "ok",
     "timestamp": 1648276596287,
     "user": {
      "displayName": "Andres Rojas",
      "photoUrl": "https://lh3.googleusercontent.com/a-/AOh14GhQZ_V21fUHbqa6Dqza57WcN-GjzAw-23gpKS_C=s64",
      "userId": "08029936610891438178"
     },
     "user_tz": 300
    },
    "id": "Ctfih-6Q7mRU",
    "outputId": "8c8f4822-8610-4630-deab-203505b40f0f"
   },
   "outputs": [],
   "source": [
    "discounted_price_list = [x - (x*(5/100)) for x in price_list]\n",
    "print(discounted_price_list)"
   ]
  },
  {
   "cell_type": "markdown",
   "metadata": {
    "id": "DjtkK1JX7p1A"
   },
   "source": [
    "Let's breakdown the syntax of the above list comprehension. There are three parts:\n",
    "1. `[ ]`: The outer square brackets tells that we are creating a list\n",
    "2. `x-(x*(5/100)`: The expression to evaluate or the computation to perform\n",
    "3. `for x in price_list`: The iterable from which elements (x) will be fetched"
   ]
  },
  {
   "cell_type": "markdown",
   "metadata": {
    "id": "fYAmUtDo8AC_"
   },
   "source": [
    "Customers often want to check whether any of the discounted prices during the sale are within their budget.\n",
    "\n",
    "Let's help the store display the same based on the budget mentioned by the customer by comparing the discounted price with the budget for each of the four mobile phone prices."
   ]
  },
  {
   "cell_type": "code",
   "execution_count": null,
   "metadata": {
    "colab": {
     "base_uri": "https://localhost:8080/"
    },
    "executionInfo": {
     "elapsed": 3518,
     "status": "ok",
     "timestamp": 1648276691755,
     "user": {
      "displayName": "Andres Rojas",
      "photoUrl": "https://lh3.googleusercontent.com/a-/AOh14GhQZ_V21fUHbqa6Dqza57WcN-GjzAw-23gpKS_C=s64",
      "userId": "08029936610891438178"
     },
     "user_tz": 300
    },
    "id": "s1xB6G7w8EHZ",
    "outputId": "f3c7e0dd-48a5-425d-9a32-6ab12b84e550"
   },
   "outputs": [],
   "source": [
    "# asking for customer's budget\n",
    "budget = int(input('Enter your budget(in dollars): '))\n",
    "\n",
    "# creating a list of Yes/No based on budget and discounted prices\n",
    "within_budget = ['Yes' if x <= budget else 'No' for x in discounted_price_list]\n",
    "print(within_budget)"
   ]
  },
  {
   "cell_type": "markdown",
   "metadata": {
    "id": "yzlgvSRt8NGH"
   },
   "source": [
    "To get more clarity on the way the list comprehension syntax is formulated, we can expand the list comprehension to the usual for and if statements and think of this in a reversed way."
   ]
  },
  {
   "cell_type": "code",
   "execution_count": null,
   "metadata": {
    "id": "na88cg6n8RUZ"
   },
   "outputs": [],
   "source": [
    "within_budget = []\n",
    "\n",
    "for x in discounted_price_list:\n",
    "  if x <= budget:\n",
    "    within_budget.append('Yes')\n",
    "  else:\n",
    "    within_budget.append('No')\n",
    "\n",
    "print(within_budget)"
   ]
  },
  {
   "cell_type": "code",
   "execution_count": null,
   "metadata": {
    "colab": {
     "base_uri": "https://localhost:8080/"
    },
    "executionInfo": {
     "elapsed": 169,
     "status": "ok",
     "timestamp": 1648277470598,
     "user": {
      "displayName": "Andres Rojas",
      "photoUrl": "https://lh3.googleusercontent.com/a-/AOh14GhQZ_V21fUHbqa6Dqza57WcN-GjzAw-23gpKS_C=s64",
      "userId": "08029936610891438178"
     },
     "user_tz": 300
    },
    "id": "31_iuN8n-qUs",
    "outputId": "90845bc2-32ca-485a-81bc-4eda055a5f0e"
   },
   "outputs": [],
   "source": [
    "nums = [x for x in range(0,31)] \n",
    "print(nums)\n",
    "div_3 = [i for i in nums if i % 3 == 0]\n",
    "print(div_3)"
   ]
  },
  {
   "cell_type": "code",
   "execution_count": null,
   "metadata": {
    "executionInfo": {
     "elapsed": 180,
     "status": "ok",
     "timestamp": 1648529384048,
     "user": {
      "displayName": "Andres Rojas",
      "userId": "08029936610891438178"
     },
     "user_tz": 300
    },
    "id": "Vat8lAfk8xpU"
   },
   "outputs": [],
   "source": [
    "def population(*old, perc_inc=0.2, **other):\n",
    "    total_pop = 0\n",
    "    for i in old:\n",
    "        total_pop+=i\n",
    "    total_pop = total_pop +total_pop*(perc_inc-other['death'])\n",
    "    return total_pop"
   ]
  },
  {
   "cell_type": "code",
   "execution_count": null,
   "metadata": {
    "colab": {
     "base_uri": "https://localhost:8080/"
    },
    "executionInfo": {
     "elapsed": 277,
     "status": "ok",
     "timestamp": 1648529391746,
     "user": {
      "displayName": "Andres Rojas",
      "userId": "08029936610891438178"
     },
     "user_tz": 300
    },
    "id": "67Z2qdFU87kK",
    "outputId": "c3d21382-5e43-4acf-af74-c32fc1e5a3a5"
   },
   "outputs": [],
   "source": [
    "other={'death': 0.1}\n",
    "population(50,50, perc_inc=0.4, **other)"
   ]
  },
  {
   "cell_type": "code",
   "execution_count": null,
   "metadata": {
    "colab": {
     "base_uri": "https://localhost:8080/"
    },
    "executionInfo": {
     "elapsed": 224,
     "status": "ok",
     "timestamp": 1648530245320,
     "user": {
      "displayName": "Andres Rojas",
      "userId": "08029936610891438178"
     },
     "user_tz": 300
    },
    "id": "7qLTPW-5Dzm4",
    "outputId": "50ee3f08-2c30-49c3-e348-5ae77782fd52"
   },
   "outputs": [],
   "source": [
    "def display_person(**kwargs):\n",
    "    for key, value in kwargs.items():\n",
    "        print (value)\n",
    "\n",
    "display_person(name=\"Emma\", age=\"25\")"
   ]
  }
 ],
 "metadata": {
  "colab": {
   "authorship_tag": "ABX9TyO2bkMO5lmvI5CGPIZ27Pwk",
   "collapsed_sections": [
    "WT6oQgjMOII0",
    "9-cSvjuCS54F",
    "JZ1ELIfTi5Bj",
    "z8q6XSqvmrGH",
    "xpkSBRQcqcc4",
    "IVn5YL8ttbU-",
    "PWBa0HGhxjok"
   ],
   "name": "PythonForDataScience_intro.ipynb",
   "provenance": [],
   "toc_visible": true
  },
  "kernelspec": {
   "display_name": "Python 3 (ipykernel)",
   "language": "python",
   "name": "python3"
  },
  "language_info": {
   "codemirror_mode": {
    "name": "ipython",
    "version": 3
   },
   "file_extension": ".py",
   "mimetype": "text/x-python",
   "name": "python",
   "nbconvert_exporter": "python",
   "pygments_lexer": "ipython3",
   "version": "3.9.7"
  }
 },
 "nbformat": 4,
 "nbformat_minor": 1
}
