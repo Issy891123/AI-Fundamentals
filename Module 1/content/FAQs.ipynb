{
 "cells": [
  {
   "cell_type": "code",
   "execution_count": null,
   "id": "e7eb86e2",
   "metadata": {},
   "outputs": [],
   "source": [
    "lst1 = [1,2,4,5] #list\n",
    "dct1 = {'one': 1, 'two':2, 'three':3} #dictionary \n",
    "tup1 = (1,2,3,4,5) #tuple\n",
    "set1 = {1,2,3,4} # set"
   ]
  },
  {
   "cell_type": "code",
   "execution_count": null,
   "id": "50af2496",
   "metadata": {},
   "outputs": [],
   "source": [
    "lst1[1] = 2 # use index position to access the value \n",
    "dct1['two']=2 #use the key name to access the value \n",
    "#tup1[1]=2 # use index position to access the value - Items can't be altered in a tuple \n",
    "#set does not support indexing in python"
   ]
  },
  {
   "cell_type": "code",
   "execution_count": null,
   "id": "829dcaa1",
   "metadata": {},
   "outputs": [],
   "source": [
    "import pandas as pd\n",
    "data = [[1,2],[3,4]] #a nested list (a list containing 2 lists) \n",
    "df = pd.DataFrame([[1,2],[3,4]], columns=['Col1','Col2'])\n",
    "print(df)"
   ]
  },
  {
   "cell_type": "code",
   "execution_count": null,
   "id": "fc518bc1",
   "metadata": {},
   "outputs": [],
   "source": [
    "print('Return:\\n',df['Col2']) #will return all values in Col2\n",
    "print('will return the value at index 0 of Col2:',df['Col2'][0]) #will return the value at index 0 of Col2 \n",
    "#Using iloc in DataFrame to access values\n",
    "print('will return the value 2:',df.iloc[0,1]) #will return the value 2"
   ]
  },
  {
   "cell_type": "markdown",
   "id": "8ab55be8",
   "metadata": {},
   "source": [
    "'iloc' has two arguments, the first one is for rows and the second one is for columns. 0 in the above code gets the elements of the 0th index and 1 is for the second column in the data frame df."
   ]
  },
  {
   "cell_type": "code",
   "execution_count": null,
   "id": "8fdd6654",
   "metadata": {},
   "outputs": [],
   "source": [
    "df.iloc[:,1] #will give all rows of Col2\n",
    "df.iloc[:,:] #will give all rows and columns \n",
    "df.iloc[1,:] #will give all columns and second row"
   ]
  },
  {
   "cell_type": "code",
   "execution_count": null,
   "id": "7f1e833e",
   "metadata": {},
   "outputs": [],
   "source": [
    "import numpy as np\n",
    "#help(np.array)\n",
    "arr = np.array([[1, 2, 3, 4, 5], [6, 7, 8, 9, 10]])\n",
    "arr[0:2, 1:4]"
   ]
  },
  {
   "cell_type": "code",
   "execution_count": null,
   "id": "6734a85b",
   "metadata": {},
   "outputs": [],
   "source": [
    "#?np.linspace\n",
    "np.linspace(10,20,4, endpoint = False)"
   ]
  },
  {
   "cell_type": "code",
   "execution_count": null,
   "id": "456f94d1",
   "metadata": {},
   "outputs": [],
   "source": [
    "df = pd.DataFrame([[4, 9],[3,6],[7,8]], columns=['A', 'B'])\n",
    "print(df)\n",
    "df['A'].apply(np.sqrt)"
   ]
  },
  {
   "cell_type": "code",
   "execution_count": null,
   "id": "59ffc147",
   "metadata": {},
   "outputs": [],
   "source": [
    "df = pd.DataFrame([[4, 9],[3,6],[7,8]], columns=['A', 'B'])\n",
    "print(df)\n",
    "df.apply(np.sqrt)"
   ]
  }
 ],
 "metadata": {
  "kernelspec": {
   "display_name": "Python 3 (ipykernel)",
   "language": "python",
   "name": "python3"
  },
  "language_info": {
   "codemirror_mode": {
    "name": "ipython",
    "version": 3
   },
   "file_extension": ".py",
   "mimetype": "text/x-python",
   "name": "python",
   "nbconvert_exporter": "python",
   "pygments_lexer": "ipython3",
   "version": "3.9.7"
  }
 },
 "nbformat": 4,
 "nbformat_minor": 5
}
