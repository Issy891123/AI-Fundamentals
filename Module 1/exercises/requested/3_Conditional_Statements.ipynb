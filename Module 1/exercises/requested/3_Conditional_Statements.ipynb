{
 "cells": [
  {
   "cell_type": "markdown",
   "metadata": {},
   "source": [
    "## Taken from the Prework course of the PGP AIML at The University of Texas"
   ]
  },
  {
   "cell_type": "markdown",
   "metadata": {},
   "source": [
    "# CONDITIONAL STATEMENTS EXERCISE"
   ]
  },
  {
   "cell_type": "markdown",
   "metadata": {},
   "source": [
    "---------------"
   ]
  },
  {
   "cell_type": "markdown",
   "metadata": {},
   "source": [
    "### 1. Check if a is equal to 10, If yes, print \"Hello\", else print \"Good Bye\"\n",
    "a = 56"
   ]
  },
  {
   "cell_type": "code",
   "execution_count": 1,
   "metadata": {},
   "outputs": [
    {
     "name": "stdout",
     "output_type": "stream",
     "text": [
      "Good Bye\n"
     ]
    }
   ],
   "source": [
    "a = 56\n",
    "if a == 10:\n",
    "    print(\"Hello\")\n",
    "else:\n",
    "    print(\"Good Bye\")"
   ]
  },
  {
   "cell_type": "markdown",
   "metadata": {},
   "source": [
    "### 2. Check whether a number is even or odd\n",
    "a = 2020"
   ]
  },
  {
   "cell_type": "code",
   "execution_count": 3,
   "metadata": {},
   "outputs": [
    {
     "name": "stdout",
     "output_type": "stream",
     "text": [
      "The number is Even\n"
     ]
    }
   ],
   "source": [
    "a = 2020\n",
    "\n",
    "if a%2 == 0:\n",
    "    print(\"The number is Even\")\n",
    "else:\n",
    "    print(\"The number is Odd\")"
   ]
  },
  {
   "cell_type": "markdown",
   "metadata": {},
   "source": [
    "### 3.  Check whether the area of the rectangle is greater than the perimeter of the rectangle\n",
    "length = 5\n",
    "breadth = 10\n",
    "\n",
    "Hint: Area of rectangle = length * breadth \n",
    "\n",
    "Hint: Perimeter of rectangle = 2 * (length + breadth)"
   ]
  },
  {
   "cell_type": "code",
   "execution_count": 4,
   "metadata": {},
   "outputs": [
    {
     "name": "stdout",
     "output_type": "stream",
     "text": [
      "Area is greater than Perimeter\n"
     ]
    }
   ],
   "source": [
    "length = 5\n",
    "breadth = 10\n",
    "\n",
    "area = length * breadth\n",
    "perimeter = 2 * (length + breadth)\n",
    "\n",
    "if area > perimeter:\n",
    "    print(\"Area is greater than Perimeter\")\n",
    "else:\n",
    "    print(\"Perimeter is greater than Area\")"
   ]
  },
  {
   "cell_type": "markdown",
   "metadata": {},
   "source": [
    "### 4.Calculate the average marks of a student in 5 subjects and give grades accordingly:\n",
    "If average>90 then Grade = A\n",
    "\n",
    "If average>80 then Grade = B\n",
    "\n",
    "If average>70 then Grade = C\n",
    "\n",
    "If average>60 then Grade = D\n",
    "\n",
    "If average>50 then Grade = E\n",
    "\n",
    "else Fail\n",
    "\n",
    "Marks in subject 1= 72\n",
    "\n",
    "Marks in subject 2= 85\n",
    "\n",
    "Marks in subject 3= 96\n",
    "\n",
    "Marks in subject 4= 42\n",
    "\n",
    "Marks in subject 5= 95"
   ]
  },
  {
   "cell_type": "code",
   "execution_count": 7,
   "metadata": {},
   "outputs": [
    {
     "name": "stdout",
     "output_type": "stream",
     "text": [
      "Average = 78.0\n",
      "Grade C\n"
     ]
    }
   ],
   "source": [
    "subject1 = [72,85,96,42,95]\n",
    "\n",
    "average = sum(subject1) / len(subject1)\n",
    "print(f\"Average = {average}\")\n",
    "\n",
    "if average >= 90:\n",
    "    print(\"Grade A\")\n",
    "elif average >= 80:\n",
    "    print(\"Grade B\")\n",
    "elif average >= 70:\n",
    "    print(\"Grade C\")\n",
    "elif average >= 60:\n",
    "    print(\"Grade D\")\n",
    "elif average >= 50:\n",
    "    print(\"Grade E\")\n",
    "else:\n",
    "    print(\"Failed\")"
   ]
  },
  {
   "cell_type": "markdown",
   "metadata": {},
   "source": [
    "###  5.check if a triangle is equilateral, isosceles or scalene.\n",
    "\n",
    "Hint :\n",
    "1. An equilateral triangle is a triangle in which all three sides are equal.\n",
    "\n",
    "2. A scalene triangle is a triangle that has three unequal sides.\n",
    "\n",
    "3. An isosceles triangle is a triangle with (at least) two equal sides.\n",
    "\n",
    "Dimensions of triangle:\n",
    "\n",
    "side 1 = 6 \n",
    "\n",
    "side 2 = 8 \n",
    "\n",
    "side 3 = 12"
   ]
  },
  {
   "cell_type": "code",
   "execution_count": 8,
   "metadata": {},
   "outputs": [
    {
     "name": "stdout",
     "output_type": "stream",
     "text": [
      "Scalene Triangle\n"
     ]
    }
   ],
   "source": [
    "side1 = 6 \n",
    "side2 = 8 \n",
    "side3 = 12\n",
    "\n",
    "if side1 == side2 and side2 == side3:\n",
    "    print(\"Equilateral Triangle\")\n",
    "elif side1 == side2 or side2 == side3 or side1 == side3:\n",
    "    print(\"Isosceles Triangle\")\n",
    "else:\n",
    "    print(\"Scalene Triangle\")"
   ]
  },
  {
   "cell_type": "markdown",
   "metadata": {},
   "source": [
    "### 6. Check if the word \"Data\" is present in the sentence \"I am a Data Scientist\". If found print \"It is present\" else print FALSE"
   ]
  },
  {
   "cell_type": "code",
   "execution_count": 10,
   "metadata": {},
   "outputs": [
    {
     "name": "stdout",
     "output_type": "stream",
     "text": [
      "'Data'It is present\n"
     ]
    }
   ],
   "source": [
    "stentence = \"I am a Data Scientist\"\n",
    "word = \"Data\"\n",
    "if word in stentence:\n",
    "    print(f\"'{word}'It is present\")\n",
    "else:\n",
    "    print(f\"'{word}'FALSE\")\n"
   ]
  },
  {
   "cell_type": "markdown",
   "metadata": {},
   "source": [
    "### 7. Write python code to check if a number is positive or negative."
   ]
  },
  {
   "cell_type": "code",
   "execution_count": 12,
   "metadata": {},
   "outputs": [
    {
     "name": "stdout",
     "output_type": "stream",
     "text": [
      "49 is positive\n",
      "4 is positive\n",
      "-76 is negative\n",
      "22 is positive\n",
      "-57 is negative\n",
      "-56 is negative\n",
      "24 is positive\n",
      "23 is positive\n",
      "-56 is negative\n",
      "29 is positive\n",
      "-61 is negative\n",
      "-5 is negative\n",
      "-33 is negative\n",
      "-6 is negative\n",
      "5 is positive\n",
      "-23 is negative\n",
      "-16 is negative\n",
      "-31 is negative\n",
      "65 is positive\n",
      "99 is positive\n"
     ]
    }
   ],
   "source": [
    "import random\n",
    "\n",
    "cant_numeros = 20\n",
    "numeros = [random.randint(-100, 100) for _ in range(cant_numeros)]\n",
    "for number in numeros:\n",
    "    if number < 0:\n",
    "        print(f\"{number} is negative\")\n",
    "    elif number > 0:\n",
    "        print(f\"{number} is positive\")\n",
    "    else:\n",
    "        print(f\"{number} is zero\")\n"
   ]
  },
  {
   "cell_type": "markdown",
   "metadata": {},
   "source": [
    "### 8. x = 20 and y = 30. Write a python code to check if x is less than y."
   ]
  },
  {
   "cell_type": "code",
   "execution_count": 14,
   "metadata": {},
   "outputs": [
    {
     "name": "stdout",
     "output_type": "stream",
     "text": [
      "20 is less than 30\n"
     ]
    }
   ],
   "source": [
    "x = 20\n",
    "y = 30\n",
    "if x > y:\n",
    "    print(f\"{x} is greater than {y}\")\n",
    "else:\n",
    "    print(f\"{x} is less than {y}\")"
   ]
  },
  {
   "cell_type": "markdown",
   "metadata": {},
   "source": [
    "### 9. Based on the users age, divide them into three groups \n",
    "    Group 1 : Age <18 , Minors who are not eligible to work\n",
    "    Group 2 : 18 < Age < 60 , Eligible to work\n",
    "    Group 3 : Age > 60, Too old to work as per govt. regulations. \n",
    "\n",
    "### Write a python code for the same"
   ]
  },
  {
   "cell_type": "code",
   "execution_count": 20,
   "metadata": {},
   "outputs": [
    {
     "name": "stdout",
     "output_type": "stream",
     "text": [
      "94 Too old to work as per govt. regulations.\n",
      "69 Too old to work as per govt. regulations.\n",
      "46 Edad entre 18 y 60 Elegible to work\n",
      "38 Edad entre 18 y 60 Elegible to work\n",
      "43 Edad entre 18 y 60 Elegible to work\n",
      "75 Too old to work as per govt. regulations.\n",
      "92 Too old to work as per govt. regulations.\n",
      "67 Too old to work as per govt. regulations.\n",
      "61 Too old to work as per govt. regulations.\n",
      "93 Too old to work as per govt. regulations.\n",
      "64 Too old to work as per govt. regulations.\n",
      "25 Edad entre 18 y 60 Elegible to work\n",
      "41 Edad entre 18 y 60 Elegible to work\n",
      "22 Edad entre 18 y 60 Elegible to work\n",
      "27 Edad entre 18 y 60 Elegible to work\n",
      "76 Too old to work as per govt. regulations.\n",
      "19 Edad entre 18 y 60 Elegible to work\n",
      "84 Too old to work as per govt. regulations.\n",
      "89 Too old to work as per govt. regulations.\n",
      "91 Too old to work as per govt. regulations.\n"
     ]
    }
   ],
   "source": [
    "import random\n",
    "cant_edades = 20\n",
    "edades = [random.randint(18, 100) for _ in range(cant_edades)]\n",
    "for edad in edades:\n",
    "    if edad <= 18:\n",
    "        print(f\"Edad < {edad} Minors who are not eligible to work\")\n",
    "    elif 18 < edad < 60:\n",
    "        print(f\"{edad} Edad entre 18 y 60 Elegible to work\")\n",
    "    elif edad > 60:\n",
    "        print(f\"{edad} Too old to work as per govt. regulations.\")\n",
    "    else:\n",
    "        print(f\"{edad} is an adult\")"
   ]
  },
  {
   "cell_type": "markdown",
   "metadata": {},
   "source": [
    "### 10. From the age of 3 people determine the oldest person among them.\n",
    "Age of first person = 25\n",
    "\n",
    "Age of second person = 34\n",
    "\n",
    "Age of third person = 45"
   ]
  },
  {
   "cell_type": "code",
   "execution_count": 25,
   "metadata": {},
   "outputs": [
    {
     "name": "stdout",
     "output_type": "stream",
     "text": [
      "Person 3 is the oldest with age 45\n"
     ]
    }
   ],
   "source": [
    "ageperson1 = 25\n",
    "ageperson2 = 34\n",
    "ageperson3 = 45\n",
    "\n",
    "if ageperson1 > ageperson2 and ageperson1 > ageperson3:\n",
    "    print(f\"Person 1 is the oldest with age {ageperson1}\")\n",
    "elif ageperson2 > ageperson1 and ageperson2 > ageperson3:\n",
    "    print(f\"Person 2 is the oldest with age {ageperson2}\")\n",
    "elif ageperson3 > ageperson1 and ageperson3 > ageperson2:\n",
    "    print(f\"Person 3 is the oldest with age {ageperson3}\")\n",
    "else:\n",
    "    print(\"All persons are of the same age\")"
   ]
  }
 ],
 "metadata": {
  "kernelspec": {
   "display_name": "Python 3 (ipykernel)",
   "language": "python",
   "name": "python3"
  },
  "language_info": {
   "codemirror_mode": {
    "name": "ipython",
    "version": 3
   },
   "file_extension": ".py",
   "mimetype": "text/x-python",
   "name": "python",
   "nbconvert_exporter": "python",
   "pygments_lexer": "ipython3",
   "version": "3.12.1"
  }
 },
 "nbformat": 4,
 "nbformat_minor": 4
}
