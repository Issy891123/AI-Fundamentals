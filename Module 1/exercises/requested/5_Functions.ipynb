{
 "cells": [
  {
   "cell_type": "markdown",
   "metadata": {},
   "source": [
    "## Taken from the Prework course of the PGP AIML at The University of Texas"
   ]
  },
  {
   "cell_type": "markdown",
   "metadata": {},
   "source": [
    "# USER DEFINED FUNCTION AND LAMBDA FUNCTIONS EXERCISE"
   ]
  },
  {
   "cell_type": "markdown",
   "metadata": {},
   "source": [
    "------------"
   ]
  },
  {
   "cell_type": "markdown",
   "metadata": {},
   "source": [
    "### 1.Write a function to add, subtract, multiply and divide two variables passed to it and print the result "
   ]
  },
  {
   "cell_type": "code",
   "execution_count": 3,
   "metadata": {},
   "outputs": [
    {
     "name": "stdout",
     "output_type": "stream",
     "text": [
      "Suma: 15, Resta: 5, Multiplicación: 50, División: 2.0\n"
     ]
    },
    {
     "data": {
      "text/plain": [
       "(15, 5, 50, 2.0)"
      ]
     },
     "execution_count": 3,
     "metadata": {},
     "output_type": "execute_result"
    }
   ],
   "source": [
    "def operations(num1, num2):\n",
    "    \"\"\"\n",
    "    Esta función toma dos números y devuelve suma, resta, multiplicación y división.\n",
    "    \"\"\"\n",
    "    if num2 == 0:\n",
    "        raise ValueError(\"No se permite la división por cero.\")\n",
    "    \n",
    "    sum_result = num1 + num2\n",
    "    diff_result = num1 - num2\n",
    "    prod_result = num1 * num2\n",
    "    quot_result = num1 / num2\n",
    "    print(f\"Suma: {sum_result}, Resta: {diff_result}, Multiplicación: {prod_result}, División: {quot_result}\")\n",
    "    \n",
    "    return sum_result, diff_result, prod_result, quot_result\n",
    "\n",
    "operations(10, 5)"
   ]
  },
  {
   "cell_type": "markdown",
   "metadata": {},
   "source": [
    "### 2.Write a Python function given range (1,10) both included, that gives the square of every number"
   ]
  },
  {
   "cell_type": "code",
   "execution_count": 12,
   "metadata": {},
   "outputs": [
    {
     "name": "stdout",
     "output_type": "stream",
     "text": [
      "Iteración 0: 0 al cuadrado es 0\n",
      "Iteración 1: 1 al cuadrado es 1\n",
      "Iteración 2: 2 al cuadrado es 4\n",
      "Iteración 3: 3 al cuadrado es 9\n",
      "Iteración 4: 4 al cuadrado es 16\n",
      "Iteración 5: 5 al cuadrado es 25\n",
      "Iteración 6: 6 al cuadrado es 36\n",
      "Iteración 7: 7 al cuadrado es 49\n",
      "Iteración 8: 8 al cuadrado es 64\n",
      "Iteración 9: 9 al cuadrado es 81\n",
      "Iteración 10: 10 al cuadrado es 100\n"
     ]
    }
   ],
   "source": [
    "def square():\n",
    "    \"\"\"\n",
    "    Esta función toma un número y devuelve su cuadrado.\n",
    "    \"\"\"\n",
    "    for i in range(0, 11):\n",
    "        print(f\"Iteración {i}: {i} al cuadrado es {i ** 2}\")        \n",
    "    \n",
    "square()"
   ]
  },
  {
   "cell_type": "markdown",
   "metadata": {},
   "source": [
    "### 3.Write a function to calculate simple interest\n",
    "\n",
    "simple interest = (Principal amount * Annual Rate of interest * Time(in years))/100\n",
    "\n",
    "Take values as follows\n",
    "\n",
    "Principal Amount = 1000\n",
    "\n",
    "Rate of interest = 3%\n",
    "\n",
    "Time = 5 years"
   ]
  },
  {
   "cell_type": "code",
   "execution_count": 13,
   "metadata": {},
   "outputs": [
    {
     "name": "stdout",
     "output_type": "stream",
     "text": [
      "El interés simple es: 1.5\n"
     ]
    },
    {
     "data": {
      "text/plain": [
       "1.5"
      ]
     },
     "execution_count": 13,
     "metadata": {},
     "output_type": "execute_result"
    }
   ],
   "source": [
    "def simple_interest(principal, rate, time):\n",
    "    \"\"\"\n",
    "    Esta función calcula el interés simple.\n",
    "    \"\"\"\n",
    "    interest = (principal * rate * time) / 100\n",
    "    print(f\"El interés simple es: {interest}\")\n",
    "    return interest\n",
    "\n",
    "simple_interest(1000, 0.03, 5)"
   ]
  },
  {
   "cell_type": "markdown",
   "metadata": {},
   "source": [
    "### 4. Write a function to check the number is divisible by 25. The function should return True if divisible and \"Not divisible\" if not"
   ]
  },
  {
   "cell_type": "code",
   "execution_count": 17,
   "metadata": {},
   "outputs": [
    {
     "data": {
      "text/plain": [
       "True"
      ]
     },
     "execution_count": 17,
     "metadata": {},
     "output_type": "execute_result"
    }
   ],
   "source": [
    "def div_25(num):\n",
    "    \"\"\"\n",
    "    Esta función verifica si un número es divisible por 25.\n",
    "    \"\"\"\n",
    "    if num % 25 == 0:        \n",
    "        return True\n",
    "    else:           \n",
    "        return \"Not divisible\"\n",
    "\n",
    "div_25(100)    "
   ]
  },
  {
   "cell_type": "markdown",
   "metadata": {},
   "source": [
    "### 5.Define a function that takes an input, squares it, adds 5, then returns the answer"
   ]
  },
  {
   "cell_type": "code",
   "execution_count": 29,
   "metadata": {},
   "outputs": [
    {
     "name": "stdout",
     "output_type": "stream",
     "text": [
      "Número válido\n"
     ]
    },
    {
     "data": {
      "text/plain": [
       "105.0"
      ]
     },
     "execution_count": 29,
     "metadata": {},
     "output_type": "execute_result"
    }
   ],
   "source": [
    "while True:\n",
    "    numero_ingresado = input(\"Ingrese número entero o décimal: \")\n",
    "    try:\n",
    "        numero_valido = float(numero_ingresado)\n",
    "        print(\"Número válido\")\n",
    "        break\n",
    "    except ValueError:\n",
    "        print(\"Número inválido, por favor ingrese un número válido\")        \n",
    "\n",
    "def funcion5 (numero):\n",
    "    \"\"\"\n",
    "    Esta función toma un número y hace lo del encunciado.\n",
    "    \"\"\" \n",
    "    resultado = numero ** 2 + 5\n",
    "    # suma = numero + 5\n",
    "    return resultado\n",
    "\n",
    "funcion5(numero_valido)\n"
   ]
  },
  {
   "cell_type": "markdown",
   "metadata": {},
   "source": [
    "### 6.Using lambda function perform the following task : take an input, squares it, add 5, then return the answer"
   ]
  },
  {
   "cell_type": "code",
   "execution_count": 1,
   "metadata": {},
   "outputs": [
    {
     "name": "stdout",
     "output_type": "stream",
     "text": [
      "Entrada inválida. Por favor, ingrese un número válido.\n",
      "Entrada inválida. Por favor, ingrese un número válido.\n",
      "El resultado es: 105.0\n"
     ]
    }
   ],
   "source": [
    "while True:\n",
    "    try:\n",
    "        resultado = (lambda x: x ** 2 + 5)(float(input(\"Ingrese un número: \")))\n",
    "        print(\"El resultado es:\", resultado)\n",
    "        break\n",
    "    except ValueError:\n",
    "        print(\"Entrada inválida. Por favor, ingrese un número válido.\")"
   ]
  },
  {
   "cell_type": "markdown",
   "metadata": {},
   "source": [
    "### 7. Write a function to calculate the power of a number raised to other ($a^b$)"
   ]
  },
  {
   "cell_type": "code",
   "execution_count": 3,
   "metadata": {},
   "outputs": [
    {
     "name": "stdout",
     "output_type": "stream",
     "text": [
      "El resultado es: 8\n"
     ]
    }
   ],
   "source": [
    "def funcion7 (base, potencia):\n",
    "    \"\"\"\n",
    "    Esta función toma un número y hace lo del encunciado.\n",
    "    \"\"\" \n",
    "    resultado = base ** potencia    \n",
    "    return resultado\n",
    "\n",
    "print(f'El resultado es: {funcion7(2, 3)}')"
   ]
  },
  {
   "cell_type": "markdown",
   "metadata": {},
   "source": [
    "### 8. Write a function to calculate the area of a triangle\n",
    "\n",
    "area of triangle = 1/2 * base * height"
   ]
  },
  {
   "cell_type": "code",
   "execution_count": 4,
   "metadata": {},
   "outputs": [
    {
     "name": "stdout",
     "output_type": "stream",
     "text": [
      "El área del triángulo es: 25.0\n"
     ]
    },
    {
     "data": {
      "text/plain": [
       "25.0"
      ]
     },
     "execution_count": 4,
     "metadata": {},
     "output_type": "execute_result"
    }
   ],
   "source": [
    "def areatriangulo(base, altura):\n",
    "    \"\"\"\n",
    "    Esta función calcula el área de un triángulo.\n",
    "    \"\"\"\n",
    "    area = (base * altura) / 2\n",
    "    print(f\"El área del triángulo es: {area}\")\n",
    "    return area\n",
    "\n",
    "areatriangulo(10, 5)"
   ]
  },
  {
   "cell_type": "markdown",
   "metadata": {},
   "source": [
    "### 9. Create a function that takes country as the input and returns \"I am from *Country* \""
   ]
  },
  {
   "cell_type": "code",
   "execution_count": 7,
   "metadata": {},
   "outputs": [
    {
     "data": {
      "text/plain": [
       "'I am from Medellin'"
      ]
     },
     "execution_count": 7,
     "metadata": {},
     "output_type": "execute_result"
    }
   ],
   "source": [
    "def myciudad():\n",
    "    \"\"\"\n",
    "    Esta función dice la ciudad ingresada.\n",
    "    \"\"\"\n",
    "    ciudad = input(\"Ingrese su ciudad: \")\n",
    "    return f'I am from {ciudad}'\n",
    "\n",
    "myciudad()"
   ]
  },
  {
   "cell_type": "markdown",
   "metadata": {},
   "source": [
    "### 10. Write a function to convert degree Celsius temperature to Fahrenheit"
   ]
  },
  {
   "cell_type": "code",
   "execution_count": 8,
   "metadata": {},
   "outputs": [
    {
     "name": "stdout",
     "output_type": "stream",
     "text": [
      "38 grados Celsius equivalen a 100.4 grados Fahrenheit.\n"
     ]
    },
    {
     "data": {
      "text/plain": [
       "38"
      ]
     },
     "execution_count": 8,
     "metadata": {},
     "output_type": "execute_result"
    }
   ],
   "source": [
    "def convert_to_fahrenheit(celsius):\n",
    "    \"\"\"\n",
    "    Esta función convierte grados celsius a fahrenheit.\n",
    "    \"\"\"    \n",
    "    fahrenheit = (celsius * 9/5) + 32\n",
    "    print(f\"{celsius} grados Celsius equivalen a {fahrenheit} grados Fahrenheit.\")\n",
    "    return celsius\n",
    "\n",
    "convert_to_fahrenheit(38)"
   ]
  }
 ],
 "metadata": {
  "kernelspec": {
   "display_name": ".venv",
   "language": "python",
   "name": "python3"
  },
  "language_info": {
   "codemirror_mode": {
    "name": "ipython",
    "version": 3
   },
   "file_extension": ".py",
   "mimetype": "text/x-python",
   "name": "python",
   "nbconvert_exporter": "python",
   "pygments_lexer": "ipython3",
   "version": "3.12.1"
  }
 },
 "nbformat": 4,
 "nbformat_minor": 4
}
