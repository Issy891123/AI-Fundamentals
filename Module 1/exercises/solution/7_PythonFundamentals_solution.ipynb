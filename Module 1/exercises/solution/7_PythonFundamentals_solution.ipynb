{
 "cells": [
  {
   "cell_type": "markdown",
   "metadata": {},
   "source": [
    "#### <center>PYTHON FUNDAMENTALS</center>\n",
    "#### <center>Msc. PgP Andrés Felipe Rojas Parra</center>"
   ]
  },
  {
   "cell_type": "markdown",
   "metadata": {},
   "source": [
    "## Project Description\n",
    "Review of Python basics\n",
    "\n",
    "## Project Objective\n",
    "- Data structures in Python (lists, dictionaries, pandas DataFrames).\n",
    "- Introduction to key libraries: pandas, NumPy, and matplotlib.\n",
    "- Data cleaning and transformation.\n",
    "- Visualization tools: matplotlib and seaborn.\n",
    "\n",
    "## Data Source Description\n",
    "Since variables, functions, procedures, classes, and so on are handled, we do not have a data source."
   ]
  },
  {
   "cell_type": "markdown",
   "metadata": {},
   "source": [
    "## Introduction to variables in Python"
   ]
  },
  {
   "cell_type": "markdown",
   "metadata": {},
   "source": [
    "### Create variables and execute mathematical functions."
   ]
  },
  {
   "cell_type": "code",
   "execution_count": 77,
   "metadata": {},
   "outputs": [
    {
     "name": "stdout",
     "output_type": "stream",
     "text": [
      "Result of addition:  15.1\n"
     ]
    }
   ],
   "source": [
    "# Create an integer variable\n",
    "a = 10\n",
    "\n",
    "# Create a floating-point variable\n",
    "b = 5.1\n",
    "\n",
    "# Add the two variables\n",
    "sum = a + b\n",
    "\n",
    "# Print the result of the addition\n",
    "print(\"Result of addition: \", sum)"
   ]
  },
  {
   "cell_type": "code",
   "execution_count": 78,
   "metadata": {},
   "outputs": [
    {
     "name": "stdout",
     "output_type": "stream",
     "text": [
      "Variable type for variable a:  <class 'int'>\n",
      "Variable type for variable b:  <class 'float'>\n",
      "Variable type for variable suma:  <class 'float'>\n"
     ]
    }
   ],
   "source": [
    "print(\"Variable type for variable a: \", type(a))\n",
    "print(\"Variable type for variable b: \", type(b))\n",
    "print(\"Variable type for variable suma: \", type(sum))"
   ]
  },
  {
   "cell_type": "markdown",
   "metadata": {},
   "source": [
    "### Compare values ​​and variables."
   ]
  },
  {
   "cell_type": "code",
   "execution_count": 79,
   "metadata": {},
   "outputs": [
    {
     "data": {
      "text/plain": [
       "True"
      ]
     },
     "execution_count": 79,
     "metadata": {},
     "output_type": "execute_result"
    }
   ],
   "source": [
    "5 == (6 - 1)"
   ]
  },
  {
   "cell_type": "code",
   "execution_count": 80,
   "metadata": {},
   "outputs": [
    {
     "data": {
      "text/plain": [
       "True"
      ]
     },
     "execution_count": 80,
     "metadata": {},
     "output_type": "execute_result"
    }
   ],
   "source": [
    "sum >= a + b"
   ]
  },
  {
   "cell_type": "markdown",
   "metadata": {},
   "source": [
    "### Adding a value to a variable."
   ]
  },
  {
   "cell_type": "code",
   "execution_count": 81,
   "metadata": {},
   "outputs": [
    {
     "name": "stdout",
     "output_type": "stream",
     "text": [
      "Sum result:  60.1\n"
     ]
    }
   ],
   "source": [
    "# Adding the value 45 to the variable sum\n",
    "sum = sum + 45\n",
    "\n",
    "# Print the result of the sum\n",
    "print(\"Sum result: \", sum)"
   ]
  },
  {
   "cell_type": "markdown",
   "metadata": {},
   "source": [
    "### Converting from integer to floating point."
   ]
  },
  {
   "cell_type": "code",
   "execution_count": 82,
   "metadata": {},
   "outputs": [
    {
     "name": "stdout",
     "output_type": "stream",
     "text": [
      "Variable type for variable a:  <class 'float'>\n"
     ]
    }
   ],
   "source": [
    "# Changing the data type of variable a\n",
    "a = float(a)\n",
    "\n",
    "print(\"Variable type for variable a: \", type(a))"
   ]
  },
  {
   "cell_type": "code",
   "execution_count": 83,
   "metadata": {},
   "outputs": [
    {
     "data": {
      "text/plain": [
       "10.0"
      ]
     },
     "execution_count": 83,
     "metadata": {},
     "output_type": "execute_result"
    }
   ],
   "source": [
    "a"
   ]
  },
  {
   "cell_type": "code",
   "execution_count": 84,
   "metadata": {},
   "outputs": [
    {
     "name": "stdout",
     "output_type": "stream",
     "text": [
      "Variable type for variable  b:  <class 'str'>\n"
     ]
    }
   ],
   "source": [
    "# Changing the data type of variable C\n",
    "b = str(b)\n",
    "\n",
    "print(\"Variable type for variable  b: \", type(b))"
   ]
  },
  {
   "cell_type": "code",
   "execution_count": 85,
   "metadata": {},
   "outputs": [
    {
     "data": {
      "text/plain": [
       "'5.1'"
      ]
     },
     "execution_count": 85,
     "metadata": {},
     "output_type": "execute_result"
    }
   ],
   "source": [
    "b"
   ]
  },
  {
   "cell_type": "code",
   "execution_count": 86,
   "metadata": {},
   "outputs": [
    {
     "ename": "TypeError",
     "evalue": "unsupported operand type(s) for +: 'float' and 'str'",
     "output_type": "error",
     "traceback": [
      "\u001b[1;31m---------------------------------------------------------------------------\u001b[0m",
      "\u001b[1;31mTypeError\u001b[0m                                 Traceback (most recent call last)",
      "Cell \u001b[1;32mIn[86], line 1\u001b[0m\n\u001b[1;32m----> 1\u001b[0m \u001b[43ma\u001b[49m\u001b[43m \u001b[49m\u001b[38;5;241;43m+\u001b[39;49m\u001b[43m \u001b[49m\u001b[43mb\u001b[49m\n",
      "\u001b[1;31mTypeError\u001b[0m: unsupported operand type(s) for +: 'float' and 'str'"
     ]
    }
   ],
   "source": [
    "a + b"
   ]
  },
  {
   "cell_type": "code",
   "execution_count": 87,
   "metadata": {},
   "outputs": [
    {
     "name": "stdout",
     "output_type": "stream",
     "text": [
      "Variable type for variable b:  <class 'float'>\n"
     ]
    }
   ],
   "source": [
    "b = float(b)\n",
    "\n",
    "print(\"Variable type for variable b: \", type(b))"
   ]
  },
  {
   "cell_type": "code",
   "execution_count": 88,
   "metadata": {},
   "outputs": [
    {
     "data": {
      "text/plain": [
       "15.1"
      ]
     },
     "execution_count": 88,
     "metadata": {},
     "output_type": "execute_result"
    }
   ],
   "source": [
    "a + b"
   ]
  },
  {
   "cell_type": "code",
   "execution_count": 89,
   "metadata": {},
   "outputs": [
    {
     "name": "stdout",
     "output_type": "stream",
     "text": [
      "Let's multiply aa by 5:  50\n"
     ]
    }
   ],
   "source": [
    "aa = 10\n",
    "print(\"Let's multiply aa by 5: \", aa*5)"
   ]
  },
  {
   "cell_type": "code",
   "execution_count": 90,
   "metadata": {},
   "outputs": [
    {
     "name": "stdout",
     "output_type": "stream",
     "text": [
      "Let's multiply aa with value: 10, by 5 and the final value is: 50\n"
     ]
    }
   ],
   "source": [
    "print(f\"Let's multiply aa with value: {aa}, by 5 and the final value is: {aa*5}\")"
   ]
  },
  {
   "cell_type": "markdown",
   "metadata": {},
   "source": [
    "### Calculate the value of z in the following expression: z = (v + w) * (x / y)\n",
    "Given the previous expression, v = 10, w = 25, x = 70, y = 2"
   ]
  },
  {
   "cell_type": "code",
   "execution_count": 91,
   "metadata": {},
   "outputs": [],
   "source": [
    "# Assigning values ​​to variables based on given information\n",
    "\n",
    "v = 10\n",
    "w = 25\n",
    "x = 70\n",
    "y = 2"
   ]
  },
  {
   "cell_type": "code",
   "execution_count": 92,
   "metadata": {},
   "outputs": [],
   "source": [
    "z = (v + w) * (x / y)"
   ]
  },
  {
   "cell_type": "code",
   "execution_count": 93,
   "metadata": {},
   "outputs": [
    {
     "name": "stdout",
     "output_type": "stream",
     "text": [
      "The calculated value of z is: 1225.0\n"
     ]
    }
   ],
   "source": [
    "print(f\"The calculated value of z is: {z}\")"
   ]
  },
  {
   "cell_type": "markdown",
   "metadata": {},
   "source": [
    "### Swap the values ​​of a and b\n",
    "If before swapping a = 10 and b = 5  \n",
    "Then after swapping a = 5 and b = 10"
   ]
  },
  {
   "cell_type": "code",
   "execution_count": 94,
   "metadata": {},
   "outputs": [
    {
     "name": "stdout",
     "output_type": "stream",
     "text": [
      "A and B before swapping 10, 5\n"
     ]
    }
   ],
   "source": [
    "a = 10\n",
    "b = 5\n",
    "print(\"A and B before swapping {}, {}\".format(a, b))"
   ]
  },
  {
   "cell_type": "code",
   "execution_count": 95,
   "metadata": {},
   "outputs": [
    {
     "name": "stdout",
     "output_type": "stream",
     "text": [
      "A and B after swapping 5, 10\n"
     ]
    }
   ],
   "source": [
    "temp = a\n",
    "a = b\n",
    "b = temp\n",
    "\n",
    "print(\"A and B after swapping {}, {}\".format(a, b))"
   ]
  },
  {
   "cell_type": "markdown",
   "metadata": {},
   "source": [
    "## Collection of variables"
   ]
  },
  {
   "cell_type": "markdown",
   "metadata": {},
   "source": [
    "### Create a list of repeated elements (value 2 we will repeat it 48 times)"
   ]
  },
  {
   "cell_type": "code",
   "execution_count": 96,
   "metadata": {},
   "outputs": [
    {
     "name": "stdout",
     "output_type": "stream",
     "text": [
      "[2, 2, 2, 2, 2, 2, 2, 2, 2, 2, 2, 2, 2, 2, 2, 2, 2, 2, 2, 2, 2, 2, 2, 2, 2, 2, 2, 2, 2, 2, 2, 2, 2, 2, 2, 2, 2, 2, 2, 2, 2, 2, 2, 2, 2, 2, 2, 2]\n"
     ]
    }
   ],
   "source": [
    "# List containing 48 times the number 2. Its length is 48 positions.\n",
    "repeated_list = [2] * 48\n",
    "print(repeated_list)"
   ]
  },
  {
   "cell_type": "code",
   "execution_count": 97,
   "metadata": {},
   "outputs": [
    {
     "data": {
      "text/plain": [
       "48"
      ]
     },
     "execution_count": 97,
     "metadata": {},
     "output_type": "execute_result"
    }
   ],
   "source": [
    "len(repeated_list)"
   ]
  },
  {
   "cell_type": "markdown",
   "metadata": {},
   "source": [
    "### Given the following line of code: \n",
    "repeated_list = [\"apples\", \"orange\", \"grapes\", \"watermelon\", \"peach\", \"kiwi\", \"banana\", \"pear\", \"plum\", \"cherry\"]\n",
    "\n",
    "\n",
    "- What type of data structure is repeated_list?\n",
    "- Add a new fruit of your choice to the end of the list. Display (print) the updated list.\n",
    "- Add another different fruit to the list, and again print the content.\n",
    "- Remove any fruit you want from the list (it can be any fruit currently present). Display the final content of the list."
   ]
  },
  {
   "cell_type": "code",
   "execution_count": 98,
   "metadata": {},
   "outputs": [],
   "source": [
    "repeated_list = [\"apples\", \"orange\", \"grapes\", \"watermelon\", \"peach\", \"kiwi\", \"banana\", \"pear\", \"plum\", \"cherry\"]"
   ]
  },
  {
   "cell_type": "code",
   "execution_count": 99,
   "metadata": {},
   "outputs": [
    {
     "name": "stdout",
     "output_type": "stream",
     "text": [
      "['apples', 'orange', 'grapes', 'watermelon', 'peach', 'kiwi', 'banana', 'pear', 'plum', 'cherry']\n"
     ]
    }
   ],
   "source": [
    "print(repeated_list)"
   ]
  },
  {
   "cell_type": "code",
   "execution_count": 100,
   "metadata": {},
   "outputs": [
    {
     "ename": "IndexError",
     "evalue": "list index out of range",
     "output_type": "error",
     "traceback": [
      "\u001b[1;31m---------------------------------------------------------------------------\u001b[0m",
      "\u001b[1;31mIndexError\u001b[0m                                Traceback (most recent call last)",
      "Cell \u001b[1;32mIn[100], line 2\u001b[0m\n\u001b[0;32m      1\u001b[0m \u001b[38;5;66;03m# Trying to display an index that does not currently exist in the list\u001b[39;00m\n\u001b[1;32m----> 2\u001b[0m \u001b[38;5;28mprint\u001b[39m(\u001b[43mrepeated_list\u001b[49m\u001b[43m[\u001b[49m\u001b[38;5;241;43m24\u001b[39;49m\u001b[43m]\u001b[49m)\n",
      "\u001b[1;31mIndexError\u001b[0m: list index out of range"
     ]
    }
   ],
   "source": [
    "# Trying to display an index that does not currently exist in the list\n",
    "print(repeated_list[24])"
   ]
  },
  {
   "cell_type": "code",
   "execution_count": 101,
   "metadata": {},
   "outputs": [],
   "source": [
    "# Adding another fruit\n",
    "repeated_list.append(\"strawberries\")"
   ]
  },
  {
   "cell_type": "code",
   "execution_count": 102,
   "metadata": {},
   "outputs": [
    {
     "data": {
      "text/plain": [
       "11"
      ]
     },
     "execution_count": 102,
     "metadata": {},
     "output_type": "execute_result"
    }
   ],
   "source": [
    "len(repeated_list)"
   ]
  },
  {
   "cell_type": "code",
   "execution_count": 103,
   "metadata": {},
   "outputs": [
    {
     "name": "stdout",
     "output_type": "stream",
     "text": [
      "plum\n"
     ]
    }
   ],
   "source": [
    "print(repeated_list[8])"
   ]
  },
  {
   "cell_type": "code",
   "execution_count": 104,
   "metadata": {},
   "outputs": [
    {
     "name": "stdout",
     "output_type": "stream",
     "text": [
      "apples\n",
      "orange\n",
      "grapes\n",
      "watermelon\n",
      "peach\n",
      "kiwi\n",
      "banana\n",
      "pear\n",
      "plum\n",
      "cherry\n",
      "strawberries\n"
     ]
    }
   ],
   "source": [
    "for index in repeated_list:\n",
    "    print(index)"
   ]
  },
  {
   "cell_type": "code",
   "execution_count": 105,
   "metadata": {},
   "outputs": [],
   "source": [
    "# Adding another fruit\n",
    "repeated_list.append(\"blueberries\")"
   ]
  },
  {
   "cell_type": "code",
   "execution_count": 106,
   "metadata": {},
   "outputs": [
    {
     "name": "stdout",
     "output_type": "stream",
     "text": [
      "apples\n",
      "orange\n",
      "grapes\n",
      "watermelon\n",
      "peach\n",
      "kiwi\n",
      "banana\n",
      "pear\n",
      "plum\n",
      "cherry\n",
      "strawberries\n",
      "blueberries\n"
     ]
    }
   ],
   "source": [
    "for index in repeated_list:\n",
    "    print(index)"
   ]
  },
  {
   "cell_type": "code",
   "execution_count": 107,
   "metadata": {},
   "outputs": [],
   "source": [
    "# removing the apples\n",
    "repeated_list.remove(\"apples\")"
   ]
  },
  {
   "cell_type": "code",
   "execution_count": 108,
   "metadata": {},
   "outputs": [
    {
     "name": "stdout",
     "output_type": "stream",
     "text": [
      "orange\n",
      "grapes\n",
      "watermelon\n",
      "peach\n",
      "kiwi\n",
      "banana\n",
      "pear\n",
      "plum\n",
      "cherry\n",
      "strawberries\n",
      "blueberries\n"
     ]
    }
   ],
   "source": [
    "for index in repeated_list:\n",
    "    print(index)"
   ]
  },
  {
   "cell_type": "markdown",
   "metadata": {},
   "source": [
    "### Write a Python code to print the squares of all numbers present in a list = [1, 12, 24, 36, 11, 20,50]"
   ]
  },
  {
   "cell_type": "code",
   "execution_count": 109,
   "metadata": {},
   "outputs": [],
   "source": [
    "list_numbers = [1, 12, 24, 36, 11, 20,50]"
   ]
  },
  {
   "cell_type": "code",
   "execution_count": 110,
   "metadata": {},
   "outputs": [
    {
     "name": "stdout",
     "output_type": "stream",
     "text": [
      "The square value of 1 is: 1\n",
      "The square value of 12 is: 144\n",
      "The square value of 24 is: 576\n",
      "The square value of 36 is: 1296\n",
      "The square value of 11 is: 121\n",
      "The square value of 20 is: 400\n",
      "The square value of 50 is: 2500\n"
     ]
    }
   ],
   "source": [
    "for i in list_numbers:\n",
    "    squares = i * i\n",
    "    print(f\"The square value of {i} is: {squares}\")"
   ]
  },
  {
   "cell_type": "markdown",
   "metadata": {},
   "source": [
    "### Create a dictionary with the following information\n",
    "- brand = Audi\n",
    "- model = Q5\n",
    "- year = 2024"
   ]
  },
  {
   "cell_type": "code",
   "execution_count": 111,
   "metadata": {},
   "outputs": [],
   "source": [
    "car_dictionary = {\"brand\":\"audi\",\"model\":\"q5\", \"year\":\"2024\"}"
   ]
  },
  {
   "cell_type": "code",
   "execution_count": 112,
   "metadata": {},
   "outputs": [
    {
     "name": "stdout",
     "output_type": "stream",
     "text": [
      "{'brand': 'audi', 'model': 'q5', 'year': '2024'}\n"
     ]
    }
   ],
   "source": [
    "print(car_dictionary)"
   ]
  },
  {
   "cell_type": "code",
   "execution_count": 113,
   "metadata": {},
   "outputs": [],
   "source": [
    "car_dictionary[\"year\"] = \"2022\""
   ]
  },
  {
   "cell_type": "code",
   "execution_count": 114,
   "metadata": {},
   "outputs": [
    {
     "name": "stdout",
     "output_type": "stream",
     "text": [
      "{'brand': 'audi', 'model': 'q5', 'year': '2022'}\n"
     ]
    }
   ],
   "source": [
    "print(car_dictionary)"
   ]
  },
  {
   "cell_type": "code",
   "execution_count": 115,
   "metadata": {},
   "outputs": [
    {
     "name": "stdout",
     "output_type": "stream",
     "text": [
      "2022\n"
     ]
    }
   ],
   "source": [
    "print(car_dictionary[\"year\"])"
   ]
  },
  {
   "cell_type": "markdown",
   "metadata": {},
   "source": [
    "### Create a dataset"
   ]
  },
  {
   "cell_type": "code",
   "execution_count": 116,
   "metadata": {},
   "outputs": [],
   "source": [
    "dataset = {1.0, \"Hello\", 55, (6,7,8)}"
   ]
  },
  {
   "cell_type": "code",
   "execution_count": 117,
   "metadata": {},
   "outputs": [
    {
     "name": "stdout",
     "output_type": "stream",
     "text": [
      "{1.0, (6, 7, 8), 'Hello', 55}\n"
     ]
    }
   ],
   "source": [
    "print(dataset)"
   ]
  },
  {
   "cell_type": "code",
   "execution_count": 118,
   "metadata": {},
   "outputs": [
    {
     "data": {
      "text/plain": [
       "set"
      ]
     },
     "execution_count": 118,
     "metadata": {},
     "output_type": "execute_result"
    }
   ],
   "source": [
    "type(dataset)"
   ]
  },
  {
   "cell_type": "code",
   "execution_count": 119,
   "metadata": {},
   "outputs": [
    {
     "name": "stdout",
     "output_type": "stream",
     "text": [
      "The data type for 1.0 is: <class 'float'>\n",
      "The data type for (6, 7, 8) is: <class 'tuple'>\n",
      "The data type for Hello is: <class 'str'>\n",
      "The data type for 55 is: <class 'int'>\n"
     ]
    }
   ],
   "source": [
    "for datatype in dataset:\n",
    "    print(f\"The data type for {datatype} is: {type(datatype)}\")"
   ]
  },
  {
   "cell_type": "markdown",
   "metadata": {},
   "source": [
    "## Conditionals"
   ]
  },
  {
   "cell_type": "markdown",
   "metadata": {},
   "source": [
    "#### Condicional IF"
   ]
  },
  {
   "cell_type": "code",
   "execution_count": 120,
   "metadata": {},
   "outputs": [
    {
     "name": "stdout",
     "output_type": "stream",
     "text": [
      "The value of sum is greater than or equal to a*b\n"
     ]
    }
   ],
   "source": [
    "if sum >= a*b:\n",
    "    print(\"The value of sum is greater than or equal to a*b\")\n",
    "else:\n",
    "    print(\"The value of sum is less than a*b\")"
   ]
  },
  {
   "cell_type": "markdown",
   "metadata": {},
   "source": [
    "### Check if the area of ​​the rectangle is greater than the perimeter of the rectangle.\n",
    "- length = 5\n",
    "- width = 10\n",
    "- **Hint:** Area of ​​the rectangle = length * width\n",
    "- **Hint:** Perimeter of the rectangle = 2 * (length + width)"
   ]
  },
  {
   "cell_type": "code",
   "execution_count": 121,
   "metadata": {},
   "outputs": [
    {
     "name": "stdout",
     "output_type": "stream",
     "text": [
      "The area of ​​the rectangle is greater than the perimeter of the rectangle\n"
     ]
    }
   ],
   "source": [
    "length = 5\n",
    "width = 10\n",
    "\n",
    "rectangle_area = length * width\n",
    "rectangle_perimeter = 2 * (length + width)\n",
    "\n",
    "if rectangle_area > rectangle_perimeter:\n",
    "    print(\"The area of ​​the rectangle is greater than the perimeter of the rectangle\")\n",
    "else:\n",
    "    print(\"The perimeter of the rectangle is greater than the area of ​​the rectangle.\")"
   ]
  },
  {
   "cell_type": "markdown",
   "metadata": {},
   "source": [
    "### Calculate a student's average grades across 5 subjects and assign grades\n",
    "\n",
    "- average > 90, Grade = A\n",
    "- average > 80, Grade = B\n",
    "- average > 70, Grade = C\n",
    "- average > 60, Grade = D\n",
    "- average > 50, Grade = E\n",
    "- Otherwise, the class was below the overall course average\n",
    "\n",
    "* pepito = 72\n",
    "* perez = 85\n",
    "* andy = 96\n",
    "* phill = 42\n",
    "* reds = 95"
   ]
  },
  {
   "cell_type": "code",
   "execution_count": 122,
   "metadata": {},
   "outputs": [],
   "source": [
    "pepito = 72\n",
    "perez = 85\n",
    "andy = 96\n",
    "phill = 42\n",
    "reds = 95\n",
    "\n",
    "average = (pepito + perez + andy + phill + reds)/5"
   ]
  },
  {
   "cell_type": "code",
   "execution_count": 123,
   "metadata": {},
   "outputs": [
    {
     "data": {
      "text/plain": [
       "78.0"
      ]
     },
     "execution_count": 123,
     "metadata": {},
     "output_type": "execute_result"
    }
   ],
   "source": [
    "average"
   ]
  },
  {
   "cell_type": "code",
   "execution_count": 124,
   "metadata": {},
   "outputs": [
    {
     "name": "stdout",
     "output_type": "stream",
     "text": [
      "Grade = C\n"
     ]
    }
   ],
   "source": [
    "if average > 90:\n",
    "    print(\"Grade = A\")\n",
    "elif average > 80:\n",
    "    print(\"Grade = B\")\n",
    "elif average > 70:\n",
    "    print(\"Grade = C\")\n",
    "elif average > 60:\n",
    "    print(\"Grade = D\")\n",
    "elif average > 50:\n",
    "    print(\"Grade = E\")\n",
    "else:\n",
    "    print(\"The class was below the overall average for the course\")"
   ]
  },
  {
   "cell_type": "markdown",
   "metadata": {},
   "source": [
    "## Looping"
   ]
  },
  {
   "cell_type": "markdown",
   "metadata": {},
   "source": [
    "### Print numbers from -10 to 10 with an interval of 1 using the ***for*** loop"
   ]
  },
  {
   "cell_type": "code",
   "execution_count": 125,
   "metadata": {},
   "outputs": [
    {
     "name": "stdout",
     "output_type": "stream",
     "text": [
      "Value: -10\n",
      "Value: -9\n",
      "Value: -8\n",
      "Value: -7\n",
      "Value: -6\n",
      "Value: -5\n",
      "Value: -4\n",
      "Value: -3\n",
      "Value: -2\n",
      "Value: -1\n",
      "Value: 0\n",
      "Value: 1\n",
      "Value: 2\n",
      "Value: 3\n",
      "Value: 4\n",
      "Value: 5\n",
      "Value: 6\n",
      "Value: 7\n",
      "Value: 8\n",
      "Value: 9\n"
     ]
    }
   ],
   "source": [
    "for i in range(-10, 10, 1):\n",
    "    print(\"Value:\", i)"
   ]
  },
  {
   "cell_type": "markdown",
   "metadata": {},
   "source": [
    "### Print the cubed value of numbers from -10 to 10 with an interval of 1 using ***for*** loop."
   ]
  },
  {
   "cell_type": "code",
   "execution_count": 126,
   "metadata": {},
   "outputs": [
    {
     "name": "stdout",
     "output_type": "stream",
     "text": [
      "The cubed value of -10 is: -1000\n",
      "The cubed value of -9 is: -729\n",
      "The cubed value of -8 is: -512\n",
      "The cubed value of -7 is: -343\n",
      "The cubed value of -6 is: -216\n",
      "The cubed value of -5 is: -125\n",
      "The cubed value of -4 is: -64\n",
      "The cubed value of -3 is: -27\n",
      "The cubed value of -2 is: -8\n",
      "The cubed value of -1 is: -1\n",
      "The cubed value of 0 is: 0\n",
      "The cubed value of 1 is: 1\n",
      "The cubed value of 2 is: 8\n",
      "The cubed value of 3 is: 27\n",
      "The cubed value of 4 is: 64\n",
      "The cubed value of 5 is: 125\n",
      "The cubed value of 6 is: 216\n",
      "The cubed value of 7 is: 343\n",
      "The cubed value of 8 is: 512\n",
      "The cubed value of 9 is: 729\n",
      "The cubed value of 10 is: 1000\n"
     ]
    }
   ],
   "source": [
    "for i in range(-10, 11, 1):\n",
    "    print(f\"The cubed value of {i} is: {i**3}\")"
   ]
  },
  {
   "cell_type": "markdown",
   "metadata": {},
   "source": [
    "### Using the ***while*** loop, the numbers from 1 to 10 are printed."
   ]
  },
  {
   "cell_type": "code",
   "execution_count": 127,
   "metadata": {},
   "outputs": [
    {
     "name": "stdout",
     "output_type": "stream",
     "text": [
      "1\n",
      "2\n",
      "3\n",
      "4\n",
      "5\n",
      "6\n",
      "7\n",
      "8\n",
      "9\n",
      "10\n"
     ]
    }
   ],
   "source": [
    "n = 10\n",
    "i = 1\n",
    "while i <= n:\n",
    "    print(i)\n",
    "    i = i+1"
   ]
  },
  {
   "cell_type": "markdown",
   "metadata": {},
   "source": [
    "### Using the ***for*** loop, print the first ten even numbers."
   ]
  },
  {
   "cell_type": "code",
   "execution_count": 128,
   "metadata": {},
   "outputs": [
    {
     "name": "stdout",
     "output_type": "stream",
     "text": [
      "Even number:  2\n",
      "Even number:  4\n",
      "Even number:  6\n",
      "Even number:  8\n",
      "Even number:  10\n",
      "Even number:  12\n",
      "Even number:  14\n",
      "Even number:  16\n",
      "Even number:  18\n",
      "Even number:  20\n"
     ]
    }
   ],
   "source": [
    "for i in range(1, 21):\n",
    "    if i%2 == 0:\n",
    "        print(\"Even number: \", i)"
   ]
  },
  {
   "cell_type": "markdown",
   "metadata": {},
   "source": [
    "### Using the ***while*** loop, generate the 5-table"
   ]
  },
  {
   "cell_type": "code",
   "execution_count": 129,
   "metadata": {},
   "outputs": [
    {
     "name": "stdout",
     "output_type": "stream",
     "text": [
      "5 * 1 = 5\n",
      "5 * 2 = 10\n",
      "5 * 3 = 15\n",
      "5 * 4 = 20\n",
      "5 * 5 = 25\n",
      "5 * 6 = 30\n",
      "5 * 7 = 35\n",
      "5 * 8 = 40\n",
      "5 * 9 = 45\n",
      "5 * 10 = 50\n"
     ]
    }
   ],
   "source": [
    "n = 5\n",
    "i = 1\n",
    "\n",
    "while i <= 10:\n",
    "    print(\"{} * {} =\".format(n, i), n*i)\n",
    "    i = i+1"
   ]
  },
  {
   "cell_type": "markdown",
   "metadata": {},
   "source": [
    "### Count the number of vowels in a string.\n",
    "\n",
    "String = \"Artificial intelligence allows computers to solve complex problems and process natural language with remarkable speed and accuracy every single day.\"  \n",
    "Vowels = ?"
   ]
  },
  {
   "cell_type": "code",
   "execution_count": 130,
   "metadata": {},
   "outputs": [
    {
     "name": "stdout",
     "output_type": "stream",
     "text": [
      "Normal string:  Artificial intelligence allows computers to solve complex problems and process natural language with remarkable speed and accuracy every single day.\n",
      "Lowercase string:  artificial intelligence allows computers to solve complex problems and process natural language with remarkable speed and accuracy every single day.\n",
      "Number of vowels in string =  48\n"
     ]
    }
   ],
   "source": [
    "string = \"Artificial intelligence allows computers to solve complex problems and process natural language with remarkable speed and accuracy every single day.\"\n",
    "vowelCount = 0\n",
    "\n",
    "print(\"Normal string: \", string)\n",
    "\n",
    "string = string.lower()\n",
    "\n",
    "print(\"Lowercase string: \", string)\n",
    "\n",
    "for i in string:\n",
    "    if i == \"a\" or i==\"e\" or i==\"i\" or i==\"o\" or i==\"u\":\n",
    "        vowelCount = vowelCount + 1\n",
    "\n",
    "print(\"Number of vowels in string = \", vowelCount)"
   ]
  },
  {
   "cell_type": "markdown",
   "metadata": {},
   "source": [
    "### Print the value of a string 15 times using ***for*** and ***while***\n",
    "\n",
    "string = \"Artificial intelligence allows computers to solve complex problems and process natural language with remarkable speed and accuracy every single day.\""
   ]
  },
  {
   "cell_type": "code",
   "execution_count": 131,
   "metadata": {},
   "outputs": [
    {
     "name": "stdout",
     "output_type": "stream",
     "text": [
      "Artificial intelligence allows computers to solve complex problems and process natural language with remarkable speed and accuracy every single day.\n",
      "Artificial intelligence allows computers to solve complex problems and process natural language with remarkable speed and accuracy every single day.\n",
      "Artificial intelligence allows computers to solve complex problems and process natural language with remarkable speed and accuracy every single day.\n",
      "Artificial intelligence allows computers to solve complex problems and process natural language with remarkable speed and accuracy every single day.\n",
      "Artificial intelligence allows computers to solve complex problems and process natural language with remarkable speed and accuracy every single day.\n",
      "Artificial intelligence allows computers to solve complex problems and process natural language with remarkable speed and accuracy every single day.\n",
      "Artificial intelligence allows computers to solve complex problems and process natural language with remarkable speed and accuracy every single day.\n",
      "Artificial intelligence allows computers to solve complex problems and process natural language with remarkable speed and accuracy every single day.\n",
      "Artificial intelligence allows computers to solve complex problems and process natural language with remarkable speed and accuracy every single day.\n",
      "Artificial intelligence allows computers to solve complex problems and process natural language with remarkable speed and accuracy every single day.\n",
      "Artificial intelligence allows computers to solve complex problems and process natural language with remarkable speed and accuracy every single day.\n",
      "Artificial intelligence allows computers to solve complex problems and process natural language with remarkable speed and accuracy every single day.\n",
      "Artificial intelligence allows computers to solve complex problems and process natural language with remarkable speed and accuracy every single day.\n",
      "Artificial intelligence allows computers to solve complex problems and process natural language with remarkable speed and accuracy every single day.\n",
      "Artificial intelligence allows computers to solve complex problems and process natural language with remarkable speed and accuracy every single day.\n"
     ]
    }
   ],
   "source": [
    "string = \"Artificial intelligence allows computers to solve complex problems and process natural language with remarkable speed and accuracy every single day.\"\n",
    "\n",
    "for i in range(0, 15):\n",
    "    print(string)"
   ]
  },
  {
   "cell_type": "code",
   "execution_count": 132,
   "metadata": {},
   "outputs": [
    {
     "name": "stdout",
     "output_type": "stream",
     "text": [
      "Artificial intelligence allows computers to solve complex problems and process natural language with remarkable speed and accuracy every single day.\n",
      "Artificial intelligence allows computers to solve complex problems and process natural language with remarkable speed and accuracy every single day.\n",
      "Artificial intelligence allows computers to solve complex problems and process natural language with remarkable speed and accuracy every single day.\n",
      "Artificial intelligence allows computers to solve complex problems and process natural language with remarkable speed and accuracy every single day.\n",
      "Artificial intelligence allows computers to solve complex problems and process natural language with remarkable speed and accuracy every single day.\n",
      "Artificial intelligence allows computers to solve complex problems and process natural language with remarkable speed and accuracy every single day.\n",
      "Artificial intelligence allows computers to solve complex problems and process natural language with remarkable speed and accuracy every single day.\n",
      "Artificial intelligence allows computers to solve complex problems and process natural language with remarkable speed and accuracy every single day.\n",
      "Artificial intelligence allows computers to solve complex problems and process natural language with remarkable speed and accuracy every single day.\n",
      "Artificial intelligence allows computers to solve complex problems and process natural language with remarkable speed and accuracy every single day.\n",
      "Artificial intelligence allows computers to solve complex problems and process natural language with remarkable speed and accuracy every single day.\n",
      "Artificial intelligence allows computers to solve complex problems and process natural language with remarkable speed and accuracy every single day.\n",
      "Artificial intelligence allows computers to solve complex problems and process natural language with remarkable speed and accuracy every single day.\n",
      "Artificial intelligence allows computers to solve complex problems and process natural language with remarkable speed and accuracy every single day.\n",
      "Artificial intelligence allows computers to solve complex problems and process natural language with remarkable speed and accuracy every single day.\n"
     ]
    }
   ],
   "source": [
    "string = \"Artificial intelligence allows computers to solve complex problems and process natural language with remarkable speed and accuracy every single day.\"\n",
    "\n",
    "i=1\n",
    "\n",
    "while i<=15:\n",
    "    print(string)\n",
    "    i = i+1"
   ]
  },
  {
   "cell_type": "markdown",
   "metadata": {},
   "source": [
    "## Python's Functions\n",
    "\n",
    "User-defined functions and LAMBDA functions exercises"
   ]
  },
  {
   "cell_type": "markdown",
   "metadata": {},
   "source": [
    "### Write a function that receives two parameters, a and b, where b has the default value of 1, to add, subtract, multiply, and divide two variables that are passed to it and print the result."
   ]
  },
  {
   "cell_type": "code",
   "execution_count": 133,
   "metadata": {},
   "outputs": [],
   "source": [
    "def calculate(a, b=1):\n",
    "    addition = a + b\n",
    "    subtraction = a - b\n",
    "    multiplication = a * b\n",
    "    division = a / b if b != 0 else \"Division by zero is not allowed\"\n",
    "    \n",
    "    print(f\"Addition: {addition}\")\n",
    "    print(f\"Subtraction: {subtraction}\")\n",
    "    print(f\"Multiplication: {multiplication}\")\n",
    "    print(f\"Division: {division}\")"
   ]
  },
  {
   "cell_type": "code",
   "execution_count": 134,
   "metadata": {},
   "outputs": [
    {
     "name": "stdout",
     "output_type": "stream",
     "text": [
      "Addition: 15\n",
      "Subtraction: 5\n",
      "Multiplication: 50\n",
      "Division: 2.0\n"
     ]
    }
   ],
   "source": [
    "calculate(10, 5)"
   ]
  },
  {
   "cell_type": "code",
   "execution_count": 135,
   "metadata": {},
   "outputs": [
    {
     "name": "stdout",
     "output_type": "stream",
     "text": [
      "Addition: 37\n",
      "Subtraction: 35\n",
      "Multiplication: 36\n",
      "Division: 36.0\n"
     ]
    }
   ],
   "source": [
    "calculate(36)  # Using default value for b"
   ]
  },
  {
   "cell_type": "markdown",
   "metadata": {},
   "source": [
    "### Write a Python function that, given the range from 1 to 10, calculates the square of each number. It should print the resulting value and not return a number. This function should not receive any parameters."
   ]
  },
  {
   "cell_type": "code",
   "execution_count": 136,
   "metadata": {},
   "outputs": [],
   "source": [
    "def calculate_squares():\n",
    "    for i in range(1, 11):\n",
    "        square = i * i\n",
    "        print(f\"The square of {i} is: {square}\")"
   ]
  },
  {
   "cell_type": "code",
   "execution_count": 137,
   "metadata": {},
   "outputs": [
    {
     "name": "stdout",
     "output_type": "stream",
     "text": [
      "The square of 1 is: 1\n",
      "The square of 2 is: 4\n",
      "The square of 3 is: 9\n",
      "The square of 4 is: 16\n",
      "The square of 5 is: 25\n",
      "The square of 6 is: 36\n",
      "The square of 7 is: 49\n",
      "The square of 8 is: 64\n",
      "The square of 9 is: 81\n",
      "The square of 10 is: 100\n"
     ]
    }
   ],
   "source": [
    "calculate_squares()"
   ]
  },
  {
   "cell_type": "markdown",
   "metadata": {},
   "source": [
    "### Write a Python function that, given the range passed as a parameter, calculates the square of each number. It should print the resulting value and not return a number."
   ]
  },
  {
   "cell_type": "code",
   "execution_count": 138,
   "metadata": {},
   "outputs": [],
   "source": [
    "def calculate_squares_in_range(start, end):\n",
    "    for i in range(start, end + 1):\n",
    "        square = i * i\n",
    "        print(f\"The square of {i} is: {square}\")\n"
   ]
  },
  {
   "cell_type": "code",
   "execution_count": 139,
   "metadata": {},
   "outputs": [
    {
     "name": "stdout",
     "output_type": "stream",
     "text": [
      "The square of 1 is: 1\n",
      "The square of 2 is: 4\n",
      "The square of 3 is: 9\n",
      "The square of 4 is: 16\n",
      "The square of 5 is: 25\n",
      "The square of 6 is: 36\n",
      "The square of 7 is: 49\n",
      "The square of 8 is: 64\n",
      "The square of 9 is: 81\n",
      "The square of 10 is: 100\n"
     ]
    }
   ],
   "source": [
    "calculate_squares_in_range(1, 10)"
   ]
  },
  {
   "cell_type": "markdown",
   "metadata": {},
   "source": [
    "### Write a function to calculate simple interest\n",
    "\n",
    "Simple interest = (Principal amount * Annual interest rate * Time (in years))/100\n",
    "\n",
    "Principal amount = 10000  \n",
    "Interest rate = 14%  \n",
    "Time: 5 years"
   ]
  },
  {
   "cell_type": "code",
   "execution_count": 140,
   "metadata": {},
   "outputs": [],
   "source": [
    "# Write a function to calculate simple interest\n",
    "def calculate_simple_interest(principal, rate, time):\n",
    "    interest = (principal * rate * time) / 100\n",
    "    return interest\n"
   ]
  },
  {
   "cell_type": "code",
   "execution_count": 141,
   "metadata": {},
   "outputs": [
    {
     "name": "stdout",
     "output_type": "stream",
     "text": [
      "The simple interest for a principal amount of 1000, rate of interest 14%, and time period 5 years is: 700.0\n"
     ]
    }
   ],
   "source": [
    "# Example usage of the simple interest function\n",
    "principal_amount = 1000\n",
    "rate_of_interest = 14\n",
    "time_period = 5\n",
    "\n",
    "simple_interest = calculate_simple_interest(principal_amount, rate_of_interest, time_period)\n",
    "print(f\"The simple interest for a principal amount of {principal_amount}, rate of interest {rate_of_interest}%, and time period {time_period} years is: {simple_interest}\")"
   ]
  },
  {
   "cell_type": "code",
   "execution_count": 142,
   "metadata": {},
   "outputs": [
    {
     "name": "stdout",
     "output_type": "stream",
     "text": [
      "The simple interest for a principal amount of 1000, rate of interest 3%, and time period 4 years is: 120.0\n"
     ]
    }
   ],
   "source": [
    "principal_amount = 1000\n",
    "rate_of_interest = 3\n",
    "time_period = 4\n",
    "simple_interest = calculate_simple_interest(principal_amount, rate_of_interest, time_period)\n",
    "print(f\"The simple interest for a principal amount of {principal_amount}, rate of interest {rate_of_interest}%, and time period {time_period} years is: {simple_interest}\")"
   ]
  },
  {
   "cell_type": "markdown",
   "metadata": {},
   "source": [
    "### Write a function to check that the number passed as a parameter is divisible by 25. The function should return **True** if it is divisible and \"Not divisible\" if it is not."
   ]
  },
  {
   "cell_type": "code",
   "execution_count": 143,
   "metadata": {},
   "outputs": [
    {
     "name": "stdout",
     "output_type": "stream",
     "text": [
      "Is 100 divisible by 25? True\n"
     ]
    }
   ],
   "source": [
    "# Write a function to check that the number passed as a parameter is divisible by 25. The function should return **True** if it is divisible and \"Not divisible\" if it is not.\n",
    "def is_divisible_by_25(number):\n",
    "    if number % 25 == 0:\n",
    "        return True\n",
    "    else:\n",
    "        return \"Not divisible\"\n",
    "\n",
    "# Example usage of the divisibility function\n",
    "number = 100\n",
    "result = is_divisible_by_25(number)\n",
    "print(f\"Is {number} divisible by 25? {result}\")"
   ]
  },
  {
   "cell_type": "code",
   "execution_count": 144,
   "metadata": {},
   "outputs": [
    {
     "name": "stdout",
     "output_type": "stream",
     "text": [
      "Is 49 divisible by 25? Not divisible\n"
     ]
    }
   ],
   "source": [
    "# Example usage of the divisibility function\n",
    "number = 49\n",
    "result = is_divisible_by_25(number)\n",
    "print(f\"Is {number} divisible by 25? {result}\")"
   ]
  },
  {
   "cell_type": "code",
   "execution_count": 145,
   "metadata": {},
   "outputs": [
    {
     "name": "stdout",
     "output_type": "stream",
     "text": [
      "Is 75 divisible by 25? True\n"
     ]
    }
   ],
   "source": [
    "# Example usage of the divisibility function\n",
    "number = 75\n",
    "result = is_divisible_by_25(number)\n",
    "print(f\"Is {number} divisible by 25? {result}\")"
   ]
  },
  {
   "cell_type": "markdown",
   "metadata": {},
   "source": [
    "### Lambda Functions\n",
    "#### Lambda 1: Using the **lambda** function, perform the following task:\n",
    "*Take a parameter, square it, add 5, and then return the answer*"
   ]
  },
  {
   "cell_type": "code",
   "execution_count": 146,
   "metadata": {},
   "outputs": [],
   "source": [
    "def square_and_add_five(x):\n",
    "    return (lambda x: x**2 + 5)(x)\n"
   ]
  },
  {
   "cell_type": "code",
   "execution_count": 147,
   "metadata": {},
   "outputs": [
    {
     "name": "stdout",
     "output_type": "stream",
     "text": [
      "The result of squaring 4 and adding 5 is: 21\n"
     ]
    }
   ],
   "source": [
    "# Example usage of the square and add function\n",
    "result = square_and_add_five(4)\n",
    "print(f\"The result of squaring 4 and adding 5 is: {result}\")"
   ]
  },
  {
   "cell_type": "code",
   "execution_count": 148,
   "metadata": {},
   "outputs": [
    {
     "name": "stdout",
     "output_type": "stream",
     "text": [
      "The result of squaring 9 and adding 5 is: 86\n"
     ]
    }
   ],
   "source": [
    "# Example usage of the square and add function\n",
    "result = square_and_add_five(9)\n",
    "print(f\"The result of squaring 9 and adding 5 is: {result}\")"
   ]
  },
  {
   "cell_type": "markdown",
   "metadata": {},
   "source": [
    "#### Lambda 2: Using the **lambda** function, perform the following task:\n",
    "*Take two parameters, multiply them together, add 10, and then return the answer*"
   ]
  },
  {
   "cell_type": "code",
   "execution_count": 149,
   "metadata": {},
   "outputs": [
    {
     "name": "stdout",
     "output_type": "stream",
     "text": [
      "The result of multiplying 3 and 4, then adding 10 is: 22\n"
     ]
    }
   ],
   "source": [
    "# Using the **lambda** function, perform the following task: Take two parameters, multiply them together, add 10, and then return the answer\n",
    "multiply_and_add_ten = lambda x, y: (x * y) + 10\n",
    "\n",
    "# Example usage of the multiply and add function\n",
    "result = multiply_and_add_ten(3, 4)\n",
    "print(f\"The result of multiplying 3 and 4, then adding 10 is: {result}\")"
   ]
  },
  {
   "cell_type": "code",
   "execution_count": 150,
   "metadata": {},
   "outputs": [
    {
     "name": "stdout",
     "output_type": "stream",
     "text": [
      "The result of multiplying 19 and 37, then adding 10 is: 713\n"
     ]
    }
   ],
   "source": [
    "# Example usage of the multiply and add function\n",
    "result = multiply_and_add_ten(19, 37)\n",
    "print(f\"The result of multiplying 19 and 37, then adding 10 is: {result}\")"
   ]
  },
  {
   "cell_type": "markdown",
   "metadata": {},
   "source": [
    "#### Lambda 3: Using the **lambda** function, perform the following task:\n",
    "*Take a parameter, identify if it is divisible by 25, if so return **True**, otherwise return **False** and then return the answer*"
   ]
  },
  {
   "cell_type": "code",
   "execution_count": 151,
   "metadata": {},
   "outputs": [
    {
     "name": "stdout",
     "output_type": "stream",
     "text": [
      "Is 100 divisible by 25? True\n"
     ]
    }
   ],
   "source": [
    "# Using the **lambda** function, perform the following task: Take a parameter, identify if it is divisible by 25, if so return **True**, otherwise return **False** and then return the answer\n",
    "is_divisible_by_25_lambda = lambda x: True if x % 25 == 0 else False\n",
    "\n",
    "# Example usage of the divisibility lambda function\n",
    "result = is_divisible_by_25_lambda(100)\n",
    "print(f\"Is 100 divisible by 25? {result}\")"
   ]
  },
  {
   "cell_type": "code",
   "execution_count": 152,
   "metadata": {},
   "outputs": [
    {
     "name": "stdout",
     "output_type": "stream",
     "text": [
      "Is 100 divisible by 25? False\n"
     ]
    }
   ],
   "source": [
    "# Example usage of the divisibility lambda function\n",
    "result = is_divisible_by_25_lambda(87)\n",
    "print(f\"Is 100 divisible by 25? {result}\")"
   ]
  }
 ],
 "metadata": {
  "kernelspec": {
   "display_name": "tssdev",
   "language": "python",
   "name": "python3"
  },
  "language_info": {
   "codemirror_mode": {
    "name": "ipython",
    "version": 3
   },
   "file_extension": ".py",
   "mimetype": "text/x-python",
   "name": "python",
   "nbconvert_exporter": "python",
   "pygments_lexer": "ipython3",
   "version": "3.12.7"
  }
 },
 "nbformat": 4,
 "nbformat_minor": 4
}
